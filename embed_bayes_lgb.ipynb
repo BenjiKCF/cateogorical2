{
 "cells": [
  {
   "cell_type": "code",
   "execution_count": 1,
   "metadata": {},
   "outputs": [],
   "source": [
    "import warnings\n",
    "warnings.filterwarnings(\"ignore\")\n",
    "import pandas as pd\n",
    "import numpy as np\n",
    "import time\n",
    "import lightgbm as lgb\n",
    "from bayes_opt import BayesianOptimization\n",
    "import gc"
   ]
  },
  {
   "cell_type": "code",
   "execution_count": 2,
   "metadata": {},
   "outputs": [],
   "source": [
    "TARGET = 'target'\n",
    "init_round=15\n",
    "opt_round= 15\n",
    "n_folds=10\n",
    "random_state = 0 \n",
    "n_estimators = 10000\n",
    "learning_rate=0.01"
   ]
  },
  {
   "cell_type": "code",
   "execution_count": 3,
   "metadata": {},
   "outputs": [],
   "source": [
    "train = pd.read_csv('train_emb.csv')\n",
    "test = pd.read_csv('test_emb.csv')"
   ]
  },
  {
   "cell_type": "code",
   "execution_count": 4,
   "metadata": {},
   "outputs": [],
   "source": [
    "X = train.drop(['target'], axis = 1)\n",
    "y = train.target"
   ]
  },
  {
   "cell_type": "code",
   "execution_count": 5,
   "metadata": {},
   "outputs": [],
   "source": [
    "train_data = lgb.Dataset(data=X, label=y, free_raw_data=True)"
   ]
  },
  {
   "cell_type": "code",
   "execution_count": 6,
   "metadata": {},
   "outputs": [],
   "source": [
    "def lgb_eval(num_leaves, learning_rate, feature_fraction, bagging_fraction, max_depth, lambda_l1, lambda_l2, min_split_gain, min_child_weight):\n",
    "    params = {'objective':'binary','num_iterations':15000, 'early_stopping_round':100, 'metric':'auc'}#n_estimator\n",
    "    params[\"num_leaves\"] = round(int(num_leaves))\n",
    "    params[\"learning_rate\"] = learning_rate\n",
    "    params['feature_fraction'] = max(min(feature_fraction, 1), 0)\n",
    "    params['bagging_fraction'] = max(min(bagging_fraction, 1), 0)\n",
    "    params['max_depth'] = round(int(max_depth))\n",
    "    params['lambda_l1'] = max(lambda_l1, 0)\n",
    "    params['lambda_l2'] = max(lambda_l2, 0)\n",
    "    params['min_split_gain'] = min_split_gain\n",
    "    params['min_child_weight'] = min_child_weight\n",
    "    cv_result = lgb.cv(params, train_data, nfold=n_folds, seed=random_state, stratified=True, verbose_eval =200)\n",
    "    return max(cv_result['auc-mean'])"
   ]
  },
  {
   "cell_type": "code",
   "execution_count": 7,
   "metadata": {},
   "outputs": [],
   "source": [
    "lgbBO = BayesianOptimization(lgb_eval, {'num_leaves': (24, 300),\n",
    "                                        'learning_rate':(0.01, 0.05),\n",
    "                                        'feature_fraction': (0.1, 0.9),\n",
    "                                        'bagging_fraction': (0.8, 1),\n",
    "                                        'max_depth': (5, 8.99),\n",
    "                                        'lambda_l1': (0, 5),\n",
    "                                        'lambda_l2': (0, 3),\n",
    "                                        'min_split_gain': (0.001, 0.1),\n",
    "                                        'min_child_weight': (5, 50)}, random_state=random_state)"
   ]
  },
  {
   "cell_type": "code",
   "execution_count": 9,
   "metadata": {},
   "outputs": [],
   "source": [
    "opt_params = lgbBO.maximize(init_points=init_round, n_iter=opt_round)"
   ]
  },
  {
   "cell_type": "code",
   "execution_count": 10,
   "metadata": {},
   "outputs": [],
   "source": [
    "# |   iter    |  target   | baggin... | featur... | lambda_l1 | lambda_l2 | learni... | max_depth | min_ch... | min_sp... | num_le... |\n",
    "# -------------------------------------------------------------------------------------------------------------------------------------\n",
    "\n",
    "# |  18       |  0.7947   |  0.8875   |  0.1632   |  4.591    |  1.681    |  0.01483  |  5.235    |  49.96    |  0.08949  |  24.13    |"
   ]
  },
  {
   "cell_type": "code",
   "execution_count": 4,
   "metadata": {},
   "outputs": [],
   "source": [
    "# for making train - valid sets\n",
    "from sklearn.model_selection import train_test_split\n",
    "\n",
    "#Split in 80% train and 20% test set\n",
    "train_df, val_df = train_test_split(train, test_size = 0.1, random_state=random_state)\n",
    "\n",
    "#Define 'y' labels\n",
    "train_y = train_df.target\n",
    "val_y = val_df.target\n",
    "\n",
    "#Define 'x' sets\n",
    "train_x = train_df.drop(['target'], axis = 1)\n",
    "val_x = val_df.drop(['target'], axis = 1)"
   ]
  },
  {
   "cell_type": "code",
   "execution_count": 5,
   "metadata": {},
   "outputs": [],
   "source": [
    "train_data = lgb.Dataset(data=train_x, label=train_y, free_raw_data=True)\n",
    "val_data = lgb.Dataset(data=val_x, label=val_y,  free_raw_data=True)"
   ]
  },
  {
   "cell_type": "code",
   "execution_count": 6,
   "metadata": {},
   "outputs": [],
   "source": [
    "params = {'objective':'binary',\n",
    "        'num_iterations':15000, \n",
    "        'early_stopping_round':100, \n",
    "        'metric':'auc',\n",
    "        'num_leaves': round(int(24.13)),\n",
    "        'learning_rate':0.01483,\n",
    "        'feature_fraction': 0.1632,\n",
    "        'bagging_fraction': 0.8875,\n",
    "        'max_depth': round(int(5.235)),\n",
    "        'lambda_l1': 4.591,\n",
    "        'lambda_l2': 1.681,\n",
    "        'min_split_gain': 0.08949,\n",
    "        'min_child_weight': 49.96,\n",
    "        'seed':random_state}"
   ]
  },
  {
   "cell_type": "code",
   "execution_count": null,
   "metadata": {},
   "outputs": [],
   "source": [
    "lgb.cv(params, train_data, nfold=n_folds, seed=random_state, stratified=True, verbose_eval =200)"
   ]
  },
  {
   "cell_type": "code",
   "execution_count": 25,
   "metadata": {},
   "outputs": [
    {
     "name": "stdout",
     "output_type": "stream",
     "text": [
      "Training until validation scores don't improve for 500 rounds.\n",
      "[200]\tvalid_0's auc: 0.766192\n",
      "[400]\tvalid_0's auc: 0.778527\n",
      "[600]\tvalid_0's auc: 0.782127\n",
      "[800]\tvalid_0's auc: 0.783636\n",
      "[1000]\tvalid_0's auc: 0.784357\n",
      "[1200]\tvalid_0's auc: 0.784769\n",
      "[1400]\tvalid_0's auc: 0.784916\n",
      "[1600]\tvalid_0's auc: 0.785091\n",
      "[1800]\tvalid_0's auc: 0.785215\n",
      "[2000]\tvalid_0's auc: 0.785193\n",
      "[2200]\tvalid_0's auc: 0.785245\n",
      "[2400]\tvalid_0's auc: 0.785282\n",
      "[2600]\tvalid_0's auc: 0.785294\n",
      "[2800]\tvalid_0's auc: 0.785292\n",
      "[3000]\tvalid_0's auc: 0.785283\n",
      "[3200]\tvalid_0's auc: 0.785264\n",
      "Early stopping, best iteration is:\n",
      "[2887]\tvalid_0's auc: 0.78532\n"
     ]
    }
   ],
   "source": [
    "lgbm = lgb.train(params,\n",
    "                 train_data,\n",
    "                 num_boost_round=40000,\n",
    "                 valid_sets=val_data,\n",
    "                 early_stopping_rounds=100,\n",
    "                 verbose_eval=200,\n",
    "                 )\n",
    "#0.785229"
   ]
  },
  {
   "cell_type": "code",
   "execution_count": 20,
   "metadata": {},
   "outputs": [],
   "source": [
    "X_test = test"
   ]
  },
  {
   "cell_type": "code",
   "execution_count": 21,
   "metadata": {},
   "outputs": [],
   "source": [
    "y_pred = lgbm.predict(X_test, num_iteration=lgbm.best_iteration)"
   ]
  },
  {
   "cell_type": "code",
   "execution_count": 22,
   "metadata": {},
   "outputs": [],
   "source": [
    "sub = pd.read_csv('sample_submission.csv')\n",
    "sub.target = y_pred"
   ]
  },
  {
   "cell_type": "code",
   "execution_count": 23,
   "metadata": {},
   "outputs": [],
   "source": [
    "sub.to_csv('submit.csv', index=False)"
   ]
  },
  {
   "cell_type": "code",
   "execution_count": null,
   "metadata": {},
   "outputs": [],
   "source": []
  },
  {
   "cell_type": "code",
   "execution_count": null,
   "metadata": {},
   "outputs": [],
   "source": []
  },
  {
   "cell_type": "code",
   "execution_count": null,
   "metadata": {},
   "outputs": [],
   "source": []
  },
  {
   "cell_type": "code",
   "execution_count": null,
   "metadata": {},
   "outputs": [],
   "source": []
  },
  {
   "cell_type": "code",
   "execution_count": null,
   "metadata": {},
   "outputs": [],
   "source": []
  }
 ],
 "metadata": {
  "kernelspec": {
   "display_name": "Python 3",
   "language": "python",
   "name": "python3"
  },
  "language_info": {
   "codemirror_mode": {
    "name": "ipython",
    "version": 3
   },
   "file_extension": ".py",
   "mimetype": "text/x-python",
   "name": "python",
   "nbconvert_exporter": "python",
   "pygments_lexer": "ipython3",
   "version": "3.7.5"
  }
 },
 "nbformat": 4,
 "nbformat_minor": 4
}
