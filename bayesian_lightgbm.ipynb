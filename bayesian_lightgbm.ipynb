{
 "cells": [
  {
   "cell_type": "markdown",
   "metadata": {},
   "source": [
    "https://github.com/WillKoehrsen/hyperparameter-optimization/blob/master/Bayesian%20Hyperparameter%20Optimization%20of%20Gradient%20Boosting%20Machine.ipynb"
   ]
  },
  {
   "cell_type": "code",
   "execution_count": 1,
   "metadata": {},
   "outputs": [],
   "source": [
    "import warnings\n",
    "warnings.filterwarnings(\"ignore\")\n",
    "import pandas as pd\n",
    "import numpy as np\n",
    "import time\n",
    "import lightgbm as lgb\n",
    "from bayes_opt import BayesianOptimization\n",
    "from sklearn.preprocessing import LabelEncoder\n",
    "import gc\n",
    "\n",
    "from sklearn.metrics import roc_auc_score\n",
    "from sklearn.model_selection import KFold, StratifiedKFold\n",
    "from sklearn import model_selection, preprocessing, metrics\n",
    "import matplotlib.pyplot as plt\n",
    "import seaborn as sns"
   ]
  },
  {
   "cell_type": "code",
   "execution_count": 2,
   "metadata": {},
   "outputs": [],
   "source": [
    "TARGET = 'target'\n",
    "init_round=15\n",
    "opt_round= 15\n",
    "n_folds=10\n",
    "random_state = 0 \n",
    "n_estimators = 10000\n",
    "learning_rate=0.01"
   ]
  },
  {
   "cell_type": "code",
   "execution_count": 77,
   "metadata": {},
   "outputs": [],
   "source": [
    "train = pd.read_csv('fm_train.csv')\n",
    "test = pd.read_csv('fm_test.csv')\n",
    "both = pd.concat([train,test])"
   ]
  },
  {
   "cell_type": "code",
   "execution_count": 78,
   "metadata": {},
   "outputs": [
    {
     "data": {
      "text/plain": [
       "(1000000, 81)"
      ]
     },
     "execution_count": 78,
     "metadata": {},
     "output_type": "execute_result"
    }
   ],
   "source": [
    "both.shape"
   ]
  },
  {
   "cell_type": "code",
   "execution_count": 79,
   "metadata": {},
   "outputs": [],
   "source": [
    "def get_num_list(df):\n",
    "    num_list = []\n",
    "    for c in df:\n",
    "        if 'ord' in c or 'num' in c:\n",
    "            num_list.append(c)\n",
    "    return num_list\n",
    "num_list = get_num_list(both)"
   ]
  },
  {
   "cell_type": "code",
   "execution_count": 80,
   "metadata": {},
   "outputs": [],
   "source": [
    "num_list = num_list[:-6] #put the last 5 ordinal to categorical\n",
    "cat_names = [c for c in both if c not in num_list and c != 'Unnamed: 0']\n",
    "#cat_names"
   ]
  },
  {
   "cell_type": "code",
   "execution_count": 81,
   "metadata": {},
   "outputs": [],
   "source": [
    "#num_list"
   ]
  },
  {
   "cell_type": "code",
   "execution_count": 82,
   "metadata": {},
   "outputs": [],
   "source": [
    "both[cat_names] = both[cat_names].astype(str)\n",
    "both[num_list] = both[num_list].astype(np.float32)\n",
    "both['target'] = both['target'].astype(str)"
   ]
  },
  {
   "cell_type": "code",
   "execution_count": 83,
   "metadata": {},
   "outputs": [],
   "source": [
    "both = both.iloc[:, 1:]"
   ]
  },
  {
   "cell_type": "code",
   "execution_count": 84,
   "metadata": {},
   "outputs": [],
   "source": [
    "drop_list = ['N_MOST_COMMON(ordinal.ord_4)[1]', 'N_MOST_COMMON(ordinal.ord_4)[2]', \n",
    "                  'N_MOST_COMMON(ordinal.ord_5)[1]', 'N_MOST_COMMON(ordinal.ord_5)[2]',\n",
    "                  'N_MOST_COMMON(ordinal.ord_2)[1]', 'N_MOST_COMMON(ordinal.ord_2)[2]',\n",
    "                  'N_MOST_COMMON(ordinal.ord_0)[1]', 'N_MOST_COMMON(ordinal.ord_0)[2]',\n",
    "                  'N_MOST_COMMON(ordinal.ord_1)[1]', 'N_MOST_COMMON(ordinal.ord_1)[2]',\n",
    "                  'N_MOST_COMMON(ordinal.ord_3)[1]', 'N_MOST_COMMON(ordinal.ord_3)[2]',\n",
    "                  'SKEW(numeric.ord_5)','SKEW(numeric.ord_2)','SKEW(numeric.ord_3)',\n",
    "                  'SKEW(numeric.ord_4)','SKEW(numeric.ord_0)','SKEW(numeric.ord_1)']\n",
    "both = both.drop(drop_list, 1)"
   ]
  },
  {
   "cell_type": "code",
   "execution_count": 85,
   "metadata": {},
   "outputs": [],
   "source": [
    "new_cat_names = [c for c in cat_names if c in both.columns]"
   ]
  },
  {
   "cell_type": "code",
   "execution_count": 86,
   "metadata": {},
   "outputs": [],
   "source": [
    "def label_encoder(input_df, encoder_dict=None):\n",
    "    \"\"\" Process a dataframe into a form useable by LightGBM \"\"\"\n",
    "    # Label encode categoricals\n",
    "    #categorical_feats = input_df.columns[input_df.dtypes == 'object']\n",
    "    \n",
    "    categorical_feats = new_cat_names\n",
    "    encoder_dict = {}\n",
    "    for feat in categorical_feats:\n",
    "        encoder = LabelEncoder()\n",
    "        input_df[feat] = encoder.fit_transform(input_df[feat].fillna('NULL'))\n",
    "        encoder_dict[feat] = encoder\n",
    "    return input_df, encoder_dict\n",
    "\n",
    "# should split to encode, but this is just a prototype\n",
    "# can extract dict and replace with unknown \n",
    "# https://stackoverflow.com/questions/21057621/sklearn-labelencoder-with-never-seen-before-values\n",
    "\n",
    "both, encoder_dict = label_encoder(both)\n",
    "new_cat_names.remove('target')"
   ]
  },
  {
   "cell_type": "code",
   "execution_count": 87,
   "metadata": {},
   "outputs": [
    {
     "data": {
      "text/plain": [
       "263"
      ]
     },
     "execution_count": 87,
     "metadata": {},
     "output_type": "execute_result"
    }
   ],
   "source": [
    "train = both.iloc[:600000]\n",
    "test = both.iloc[600000:]\n",
    "del both\n",
    "gc.collect()"
   ]
  },
  {
   "cell_type": "code",
   "execution_count": 88,
   "metadata": {},
   "outputs": [],
   "source": [
    "X = train.drop('target', axis=1)\n",
    "y = train.target\n",
    "\n",
    "X_test = test.drop('target', axis=1)\n",
    "y_test = test.target"
   ]
  },
  {
   "cell_type": "code",
   "execution_count": 40,
   "metadata": {},
   "outputs": [
    {
     "data": {
      "text/plain": [
       "44"
      ]
     },
     "execution_count": 40,
     "metadata": {},
     "output_type": "execute_result"
    }
   ],
   "source": [
    "train_data = lgb.Dataset(data=X, label=y, categorical_feature = new_cat_names, free_raw_data=False)\n",
    "#del X, y\n",
    "#gc.collect()\n",
    "\n",
    "test_data = lgb.Dataset(data=X_test, label=y_test, categorical_feature = new_cat_names, free_raw_data=False)\n",
    "#del X_test, y_test\n",
    "#gc.collect()"
   ]
  },
  {
   "cell_type": "code",
   "execution_count": 16,
   "metadata": {},
   "outputs": [],
   "source": [
    "def lgb_eval(num_leaves, learning_rate, feature_fraction, bagging_fraction, max_depth, lambda_l1, lambda_l2, min_split_gain, min_child_weight):\n",
    "    params = {'objective':'binary','num_iterations':15000, 'early_stopping_round':100, 'metric':'auc'}#n_estimator\n",
    "    params[\"num_leaves\"] = round(int(num_leaves))\n",
    "    params[\"learning_rate\"] = learning_rate\n",
    "    params['feature_fraction'] = max(min(feature_fraction, 1), 0)\n",
    "    params['bagging_fraction'] = max(min(bagging_fraction, 1), 0)\n",
    "    params['max_depth'] = round(int(max_depth))\n",
    "    params['lambda_l1'] = max(lambda_l1, 0)\n",
    "    params['lambda_l2'] = max(lambda_l2, 0)\n",
    "    params['min_split_gain'] = min_split_gain\n",
    "    params['min_child_weight'] = min_child_weight\n",
    "    cv_result = lgb.cv(params, train_data, nfold=n_folds, seed=random_state, stratified=True, verbose_eval =200)\n",
    "    return max(cv_result['auc-mean'])"
   ]
  },
  {
   "cell_type": "code",
   "execution_count": 17,
   "metadata": {},
   "outputs": [],
   "source": [
    "lgbBO = BayesianOptimization(lgb_eval, {'num_leaves': (24, 300),\n",
    "                                        'learning_rate':(0.01, 0.05),\n",
    "                                        'feature_fraction': (0.1, 0.9),\n",
    "                                        'bagging_fraction': (0.8, 1),\n",
    "                                        'max_depth': (5, 8.99),\n",
    "                                        'lambda_l1': (0, 5),\n",
    "                                        'lambda_l2': (0, 3),\n",
    "                                        'min_split_gain': (0.001, 0.1),\n",
    "                                        'min_child_weight': (5, 50)}, random_state=random_state)"
   ]
  },
  {
   "cell_type": "code",
   "execution_count": 18,
   "metadata": {},
   "outputs": [
    {
     "name": "stdout",
     "output_type": "stream",
     "text": [
      "|   iter    |  target   | baggin... | featur... | lambda_l1 | lambda_l2 | learni... | max_depth | min_ch... | min_sp... | num_le... |\n",
      "-------------------------------------------------------------------------------------------------------------------------------------\n",
      "[200]\tcv_agg's auc: 0.77448 + 0.00297989\n",
      "[400]\tcv_agg's auc: 0.778386 + 0.00296255\n",
      "| \u001b[0m 1       \u001b[0m | \u001b[0m 0.7784  \u001b[0m | \u001b[0m 0.9098  \u001b[0m | \u001b[0m 0.6722  \u001b[0m | \u001b[0m 3.014   \u001b[0m | \u001b[0m 1.635   \u001b[0m | \u001b[0m 0.02695 \u001b[0m | \u001b[0m 7.577   \u001b[0m | \u001b[0m 24.69   \u001b[0m | \u001b[0m 0.08929 \u001b[0m | \u001b[0m 290.0   \u001b[0m |\n",
      "[200]\tcv_agg's auc: 0.777666 + 0.00286688\n",
      "[400]\tcv_agg's auc: 0.779448 + 0.00304883\n",
      "| \u001b[95m 2       \u001b[0m | \u001b[95m 0.7796  \u001b[0m | \u001b[95m 0.8767  \u001b[0m | \u001b[95m 0.7334  \u001b[0m | \u001b[95m 2.644   \u001b[0m | \u001b[95m 1.704   \u001b[0m | \u001b[95m 0.04702 \u001b[0m | \u001b[95m 5.283   \u001b[0m | \u001b[95m 8.921   \u001b[0m | \u001b[95m 0.003002\u001b[0m | \u001b[95m 253.8   \u001b[0m |\n",
      "[200]\tcv_agg's auc: 0.774727 + 0.00275753\n",
      "[400]\tcv_agg's auc: 0.776703 + 0.00299011\n",
      "| \u001b[0m 3       \u001b[0m | \u001b[0m 0.7769  \u001b[0m | \u001b[0m 0.9556  \u001b[0m | \u001b[0m 0.796   \u001b[0m | \u001b[0m 4.893   \u001b[0m | \u001b[0m 2.397   \u001b[0m | \u001b[0m 0.02846 \u001b[0m | \u001b[0m 8.114   \u001b[0m | \u001b[0m 10.32   \u001b[0m | \u001b[0m 0.06435 \u001b[0m | \u001b[0m 63.57   \u001b[0m |\n",
      "[200]\tcv_agg's auc: 0.777833 + 0.00282955\n",
      "[400]\tcv_agg's auc: 0.779772 + 0.00290702\n",
      "| \u001b[95m 4       \u001b[0m | \u001b[95m 0.7799  \u001b[0m | \u001b[95m 0.9889  \u001b[0m | \u001b[95m 0.5175  \u001b[0m | \u001b[95m 2.073   \u001b[0m | \u001b[95m 0.7937  \u001b[0m | \u001b[95m 0.04097 \u001b[0m | \u001b[95m 6.82    \u001b[0m | \u001b[95m 30.58   \u001b[0m | \u001b[95m 0.00286 \u001b[0m | \u001b[95m 194.5   \u001b[0m |\n",
      "[200]\tcv_agg's auc: 0.772938 + 0.00272803\n",
      "[400]\tcv_agg's auc: 0.779211 + 0.00277112\n",
      "[600]\tcv_agg's auc: 0.780055 + 0.00285132\n",
      "| \u001b[95m 5       \u001b[0m | \u001b[95m 0.7801  \u001b[0m | \u001b[95m 0.9224  \u001b[0m | \u001b[95m 0.5935  \u001b[0m | \u001b[95m 4.719   \u001b[0m | \u001b[95m 2.045   \u001b[0m | \u001b[95m 0.02438 \u001b[0m | \u001b[95m 6.744   \u001b[0m | \u001b[95m 36.39   \u001b[0m | \u001b[95m 0.006962\u001b[0m | \u001b[95m 208.0   \u001b[0m |\n",
      "[200]\tcv_agg's auc: 0.774222 + 0.00284994\n",
      "[400]\tcv_agg's auc: 0.781293 + 0.00296711\n",
      "[600]\tcv_agg's auc: 0.782872 + 0.00302431\n",
      "| \u001b[95m 6       \u001b[0m | \u001b[95m 0.783   \u001b[0m | \u001b[95m 0.9341  \u001b[0m | \u001b[95m 0.2683  \u001b[0m | \u001b[95m 0.6446  \u001b[0m | \u001b[95m 0.9463  \u001b[0m | \u001b[95m 0.02455 \u001b[0m | \u001b[95m 7.275   \u001b[0m | \u001b[95m 24.74   \u001b[0m | \u001b[95m 0.09885 \u001b[0m | \u001b[95m 52.16   \u001b[0m |\n",
      "[200]\tcv_agg's auc: 0.773806 + 0.00282304\n",
      "[400]\tcv_agg's auc: 0.781575 + 0.00285565\n",
      "[600]\tcv_agg's auc: 0.783631 + 0.00289068\n",
      "[800]\tcv_agg's auc: 0.784288 + 0.00292165\n",
      "[1000]\tcv_agg's auc: 0.784534 + 0.00298945\n",
      "| \u001b[95m 7       \u001b[0m | \u001b[95m 0.7846  \u001b[0m | \u001b[95m 0.8418  \u001b[0m | \u001b[95m 0.229   \u001b[0m | \u001b[95m 3.266   \u001b[0m | \u001b[95m 0.7599  \u001b[0m | \u001b[95m 0.02865 \u001b[0m | \u001b[95m 5.975   \u001b[0m | \u001b[95m 12.15   \u001b[0m | \u001b[95m 0.01193 \u001b[0m | \u001b[95m 205.1   \u001b[0m |\n",
      "[200]\tcv_agg's auc: 0.764869 + 0.00269551\n",
      "[400]\tcv_agg's auc: 0.777864 + 0.00284368\n",
      "[600]\tcv_agg's auc: 0.781702 + 0.00286363\n",
      "[800]\tcv_agg's auc: 0.783033 + 0.00293481\n",
      "[1000]\tcv_agg's auc: 0.783498 + 0.00296983\n",
      "[1200]\tcv_agg's auc: 0.783626 + 0.00301307\n",
      "| \u001b[0m 8       \u001b[0m | \u001b[0m 0.7837  \u001b[0m | \u001b[0m 0.8276  \u001b[0m | \u001b[0m 0.2573  \u001b[0m | \u001b[0m 1.844   \u001b[0m | \u001b[0m 2.463   \u001b[0m | \u001b[0m 0.01388 \u001b[0m | \u001b[0m 8.343   \u001b[0m | \u001b[0m 9.324   \u001b[0m | \u001b[0m 0.09767 \u001b[0m | \u001b[0m 153.3   \u001b[0m |\n",
      "[200]\tcv_agg's auc: 0.768798 + 0.0027859\n",
      "[400]\tcv_agg's auc: 0.778052 + 0.00282059\n",
      "[600]\tcv_agg's auc: 0.780481 + 0.00293414\n",
      "[800]\tcv_agg's auc: 0.780987 + 0.00294586\n",
      "| \u001b[0m 9       \u001b[0m | \u001b[0m 0.781   \u001b[0m | \u001b[0m 0.9954  \u001b[0m | \u001b[0m 0.5839  \u001b[0m | \u001b[0m 3.696   \u001b[0m | \u001b[0m 0.1176  \u001b[0m | \u001b[0m 0.02131 \u001b[0m | \u001b[0m 5.48    \u001b[0m | \u001b[0m 18.33   \u001b[0m | \u001b[0m 0.01275 \u001b[0m | \u001b[0m 111.8   \u001b[0m |\n",
      "[200]\tcv_agg's auc: 0.766842 + 0.00267452\n",
      "[400]\tcv_agg's auc: 0.778444 + 0.00275046\n",
      "[600]\tcv_agg's auc: 0.782458 + 0.00280273\n",
      "[800]\tcv_agg's auc: 0.783914 + 0.00285637\n",
      "[1000]\tcv_agg's auc: 0.784456 + 0.00286454\n",
      "[1200]\tcv_agg's auc: 0.784686 + 0.00290749\n",
      "[1400]\tcv_agg's auc: 0.784722 + 0.00292356\n",
      "| \u001b[95m 10      \u001b[0m | \u001b[95m 0.7847  \u001b[0m | \u001b[95m 0.8829  \u001b[0m | \u001b[95m 0.1513  \u001b[0m | \u001b[95m 3.462   \u001b[0m | \u001b[95m 1.7     \u001b[0m | \u001b[95m 0.02062 \u001b[0m | \u001b[95m 7.088   \u001b[0m | \u001b[95m 9.227   \u001b[0m | \u001b[95m 0.05802 \u001b[0m | \u001b[95m 280.5   \u001b[0m |\n",
      "[200]\tcv_agg's auc: 0.769073 + 0.00283282\n",
      "[400]\tcv_agg's auc: 0.778108 + 0.00290105\n",
      "[600]\tcv_agg's auc: 0.78041 + 0.0030133\n",
      "[800]\tcv_agg's auc: 0.780879 + 0.00303043\n",
      "| \u001b[0m 11      \u001b[0m | \u001b[0m 0.7809  \u001b[0m | \u001b[0m 0.8637  \u001b[0m | \u001b[0m 0.6339  \u001b[0m | \u001b[0m 0.659   \u001b[0m | \u001b[0m 2.149   \u001b[0m | \u001b[0m 0.02158 \u001b[0m | \u001b[0m 5.731   \u001b[0m | \u001b[0m 31.39   \u001b[0m | \u001b[0m 0.002991\u001b[0m | \u001b[0m 252.8   \u001b[0m |\n",
      "[200]\tcv_agg's auc: 0.778202 + 0.002921\n",
      "[400]\tcv_agg's auc: 0.779929 + 0.002942\n",
      "| \u001b[0m 12      \u001b[0m | \u001b[0m 0.7801  \u001b[0m | \u001b[0m 0.8009  \u001b[0m | \u001b[0m 0.6423  \u001b[0m | \u001b[0m 1.35    \u001b[0m | \u001b[0m 2.206   \u001b[0m | \u001b[0m 0.04849 \u001b[0m | \u001b[0m 5.993   \u001b[0m | \u001b[0m 30.93   \u001b[0m | \u001b[0m 0.05961 \u001b[0m | \u001b[0m 181.9   \u001b[0m |\n",
      "[200]\tcv_agg's auc: 0.776531 + 0.0031515\n",
      "[400]\tcv_agg's auc: 0.778072 + 0.00312841\n",
      "| \u001b[0m 13      \u001b[0m | \u001b[0m 0.7783  \u001b[0m | \u001b[0m 0.8446  \u001b[0m | \u001b[0m 0.8622  \u001b[0m | \u001b[0m 2.236   \u001b[0m | \u001b[0m 2.539   \u001b[0m | \u001b[0m 0.03798 \u001b[0m | \u001b[0m 6.187   \u001b[0m | \u001b[0m 41.62   \u001b[0m | \u001b[0m 0.04025 \u001b[0m | \u001b[0m 267.2   \u001b[0m |\n",
      "[200]\tcv_agg's auc: 0.774323 + 0.00280861\n",
      "[400]\tcv_agg's auc: 0.775876 + 0.00294166\n",
      "| \u001b[0m 14      \u001b[0m | \u001b[0m 0.7761  \u001b[0m | \u001b[0m 0.9163  \u001b[0m | \u001b[0m 0.8054  \u001b[0m | \u001b[0m 3.463   \u001b[0m | \u001b[0m 2.176   \u001b[0m | \u001b[0m 0.03005 \u001b[0m | \u001b[0m 8.815   \u001b[0m | \u001b[0m 33.98   \u001b[0m | \u001b[0m 0.04296 \u001b[0m | \u001b[0m 191.4   \u001b[0m |\n",
      "[200]\tcv_agg's auc: 0.777586 + 0.00278449\n",
      "[400]\tcv_agg's auc: 0.781697 + 0.002864\n",
      "| \u001b[0m 15      \u001b[0m | \u001b[0m 0.7821  \u001b[0m | \u001b[0m 0.8038  \u001b[0m | \u001b[0m 0.3413  \u001b[0m | \u001b[0m 3.301   \u001b[0m | \u001b[0m 0.8702  \u001b[0m | \u001b[0m 0.03472 \u001b[0m | \u001b[0m 6.711   \u001b[0m | \u001b[0m 11.1    \u001b[0m | \u001b[0m 0.03053 \u001b[0m | \u001b[0m 181.3   \u001b[0m |\n",
      "[200]\tcv_agg's auc: 0.760251 + 0.00257049\n",
      "[400]\tcv_agg's auc: 0.772867 + 0.00255073\n",
      "[600]\tcv_agg's auc: 0.779496 + 0.00260831\n",
      "[800]\tcv_agg's auc: 0.782235 + 0.00266778\n",
      "[1000]\tcv_agg's auc: 0.7835 + 0.00270043\n",
      "[1200]\tcv_agg's auc: 0.784292 + 0.00274034\n",
      "[1400]\tcv_agg's auc: 0.784778 + 0.00275244\n",
      "[1600]\tcv_agg's auc: 0.785115 + 0.002785\n",
      "[1800]\tcv_agg's auc: 0.785294 + 0.00279916\n",
      "[2000]\tcv_agg's auc: 0.785429 + 0.0028098\n",
      "[2200]\tcv_agg's auc: 0.785494 + 0.00285614\n",
      "[2400]\tcv_agg's auc: 0.785552 + 0.00289162\n",
      "| \u001b[95m 16      \u001b[0m | \u001b[95m 0.7856  \u001b[0m | \u001b[95m 0.9174  \u001b[0m | \u001b[95m 0.1062  \u001b[0m | \u001b[95m 0.07204 \u001b[0m | \u001b[95m 0.006567\u001b[0m | \u001b[95m 0.01995 \u001b[0m | \u001b[95m 5.142   \u001b[0m | \u001b[95m 6.584   \u001b[0m | \u001b[95m 0.09796 \u001b[0m | \u001b[95m 297.4   \u001b[0m |\n",
      "[200]\tcv_agg's auc: 0.775727 + 0.00260398\n",
      "[400]\tcv_agg's auc: 0.782575 + 0.00255631\n",
      "[600]\tcv_agg's auc: 0.784241 + 0.00264998\n",
      "[800]\tcv_agg's auc: 0.784932 + 0.0027156\n",
      "[1000]\tcv_agg's auc: 0.7851 + 0.002753\n",
      "| \u001b[0m 17      \u001b[0m | \u001b[0m 0.7851  \u001b[0m | \u001b[0m 0.8143  \u001b[0m | \u001b[0m 0.1222  \u001b[0m | \u001b[0m 0.2334  \u001b[0m | \u001b[0m 0.166   \u001b[0m | \u001b[0m 0.04127 \u001b[0m | \u001b[0m 5.595   \u001b[0m | \u001b[0m 5.271   \u001b[0m | \u001b[0m 0.05564 \u001b[0m | \u001b[0m 176.9   \u001b[0m |\n",
      "[200]\tcv_agg's auc: 0.759512 + 0.00259406\n",
      "[400]\tcv_agg's auc: 0.773874 + 0.00275138\n",
      "[600]\tcv_agg's auc: 0.779508 + 0.00278094\n",
      "[800]\tcv_agg's auc: 0.782001 + 0.00279449\n",
      "[1000]\tcv_agg's auc: 0.783206 + 0.00285369\n",
      "[1200]\tcv_agg's auc: 0.783796 + 0.0028925\n",
      "[1400]\tcv_agg's auc: 0.784024 + 0.00295056\n",
      "| \u001b[0m 18      \u001b[0m | \u001b[0m 0.7841  \u001b[0m | \u001b[0m 0.8437  \u001b[0m | \u001b[0m 0.2068  \u001b[0m | \u001b[0m 0.4643  \u001b[0m | \u001b[0m 0.155   \u001b[0m | \u001b[0m 0.01146 \u001b[0m | \u001b[0m 8.677   \u001b[0m | \u001b[0m 5.273   \u001b[0m | \u001b[0m 0.04013 \u001b[0m | \u001b[0m 239.2   \u001b[0m |\n",
      "[200]\tcv_agg's auc: 0.770722 + 0.00309951\n",
      "[400]\tcv_agg's auc: 0.779462 + 0.00307508\n",
      "[600]\tcv_agg's auc: 0.781929 + 0.00304691\n",
      "[800]\tcv_agg's auc: 0.782448 + 0.00306486\n",
      "| \u001b[0m 19      \u001b[0m | \u001b[0m 0.7825  \u001b[0m | \u001b[0m 0.8347  \u001b[0m | \u001b[0m 0.3957  \u001b[0m | \u001b[0m 0.2217  \u001b[0m | \u001b[0m 0.06298 \u001b[0m | \u001b[0m 0.02359 \u001b[0m | \u001b[0m 5.156   \u001b[0m | \u001b[0m 6.613   \u001b[0m | \u001b[0m 0.01103 \u001b[0m | \u001b[0m 29.77   \u001b[0m |\n",
      "[200]\tcv_agg's auc: 0.777754 + 0.00291938\n",
      "[400]\tcv_agg's auc: 0.783087 + 0.00288883\n",
      "[600]\tcv_agg's auc: 0.784119 + 0.00291421\n",
      "[800]\tcv_agg's auc: 0.784254 + 0.0029533\n",
      "| \u001b[0m 20      \u001b[0m | \u001b[0m 0.7843  \u001b[0m | \u001b[0m 0.9373  \u001b[0m | \u001b[0m 0.2262  \u001b[0m | \u001b[0m 0.1962  \u001b[0m | \u001b[0m 0.4626  \u001b[0m | \u001b[0m 0.03869 \u001b[0m | \u001b[0m 5.027   \u001b[0m | \u001b[0m 5.754   \u001b[0m | \u001b[0m 0.00178 \u001b[0m | \u001b[0m 294.1   \u001b[0m |\n",
      "[200]\tcv_agg's auc: 0.770302 + 0.00271139\n",
      "[400]\tcv_agg's auc: 0.780832 + 0.00277973\n",
      "[600]\tcv_agg's auc: 0.783669 + 0.00275793\n",
      "[800]\tcv_agg's auc: 0.784563 + 0.00275232\n",
      "[1000]\tcv_agg's auc: 0.785103 + 0.00277064\n",
      "[1200]\tcv_agg's auc: 0.785273 + 0.0027826\n",
      "[1400]\tcv_agg's auc: 0.785385 + 0.00281238\n",
      "[1600]\tcv_agg's auc: 0.785389 + 0.0028399\n",
      "| \u001b[0m 21      \u001b[0m | \u001b[0m 0.7855  \u001b[0m | \u001b[0m 0.938   \u001b[0m | \u001b[0m 0.1648  \u001b[0m | \u001b[0m 0.01686 \u001b[0m | \u001b[0m 2.645   \u001b[0m | \u001b[0m 0.02721 \u001b[0m | \u001b[0m 5.117   \u001b[0m | \u001b[0m 5.156   \u001b[0m | \u001b[0m 0.06592 \u001b[0m | \u001b[0m 171.7   \u001b[0m |\n",
      "[200]\tcv_agg's auc: 0.777393 + 0.00281642\n",
      "[400]\tcv_agg's auc: 0.783288 + 0.00290217\n",
      "[600]\tcv_agg's auc: 0.784393 + 0.00287504\n",
      "[800]\tcv_agg's auc: 0.784648 + 0.00293603\n",
      "| \u001b[0m 22      \u001b[0m | \u001b[0m 0.7847  \u001b[0m | \u001b[0m 0.875   \u001b[0m | \u001b[0m 0.2228  \u001b[0m | \u001b[0m 0.05702 \u001b[0m | \u001b[0m 0.3628  \u001b[0m | \u001b[0m 0.03881 \u001b[0m | \u001b[0m 5.194   \u001b[0m | \u001b[0m 5.414   \u001b[0m | \u001b[0m 0.09061 \u001b[0m | \u001b[0m 211.6   \u001b[0m |\n",
      "[200]\tcv_agg's auc: 0.756996 + 0.00270375\n",
      "[400]\tcv_agg's auc: 0.771329 + 0.00268928\n",
      "[600]\tcv_agg's auc: 0.778521 + 0.00268867\n",
      "[800]\tcv_agg's auc: 0.781386 + 0.00270453\n",
      "[1000]\tcv_agg's auc: 0.782983 + 0.00273518\n",
      "[1200]\tcv_agg's auc: 0.783889 + 0.00276096\n",
      "[1400]\tcv_agg's auc: 0.784507 + 0.00278666\n",
      "[1600]\tcv_agg's auc: 0.784908 + 0.00282011\n",
      "[1800]\tcv_agg's auc: 0.785161 + 0.00282584\n",
      "[2000]\tcv_agg's auc: 0.785338 + 0.00284989\n",
      "| \u001b[0m 23      \u001b[0m | \u001b[0m 0.7853  \u001b[0m | \u001b[0m 0.909   \u001b[0m | \u001b[0m 0.122   \u001b[0m | \u001b[0m 0.1222  \u001b[0m | \u001b[0m 0.008704\u001b[0m | \u001b[0m 0.0164  \u001b[0m | \u001b[0m 5.32    \u001b[0m | \u001b[0m 7.186   \u001b[0m | \u001b[0m 0.08277 \u001b[0m | \u001b[0m 164.2   \u001b[0m |\n",
      "[200]\tcv_agg's auc: 0.769337 + 0.00290112\n",
      "[400]\tcv_agg's auc: 0.779224 + 0.00296509\n",
      "[600]\tcv_agg's auc: 0.782286 + 0.0029752\n",
      "[800]\tcv_agg's auc: 0.783288 + 0.00292558\n",
      "[1000]\tcv_agg's auc: 0.78358 + 0.00298207\n",
      "[1200]\tcv_agg's auc: 0.783647 + 0.00299087\n",
      "| \u001b[0m 24      \u001b[0m | \u001b[0m 0.7837  \u001b[0m | \u001b[0m 0.8322  \u001b[0m | \u001b[0m 0.2798  \u001b[0m | \u001b[0m 0.09925 \u001b[0m | \u001b[0m 0.0266  \u001b[0m | \u001b[0m 0.02208 \u001b[0m | \u001b[0m 5.219   \u001b[0m | \u001b[0m 6.43    \u001b[0m | \u001b[0m 0.06101 \u001b[0m | \u001b[0m 201.4   \u001b[0m |\n",
      "[200]\tcv_agg's auc: 0.769913 + 0.00274754\n",
      "[400]\tcv_agg's auc: 0.780406 + 0.00275137\n",
      "[600]\tcv_agg's auc: 0.783507 + 0.00281205\n",
      "[800]\tcv_agg's auc: 0.7846 + 0.00284976\n",
      "[1000]\tcv_agg's auc: 0.785043 + 0.00286342\n",
      "[1200]\tcv_agg's auc: 0.785295 + 0.00289093\n",
      "[1400]\tcv_agg's auc: 0.78541 + 0.00289583\n",
      "[1600]\tcv_agg's auc: 0.785424 + 0.00294495\n",
      "| \u001b[0m 25      \u001b[0m | \u001b[0m 0.7855  \u001b[0m | \u001b[0m 0.9464  \u001b[0m | \u001b[0m 0.1505  \u001b[0m | \u001b[0m 0.2062  \u001b[0m | \u001b[0m 2.304   \u001b[0m | \u001b[0m 0.02797 \u001b[0m | \u001b[0m 5.53    \u001b[0m | \u001b[0m 6.503   \u001b[0m | \u001b[0m 0.01863 \u001b[0m | \u001b[0m 297.3   \u001b[0m |\n",
      "[200]\tcv_agg's auc: 0.766329 + 0.00294592\n",
      "[400]\tcv_agg's auc: 0.777699 + 0.00291151\n",
      "[600]\tcv_agg's auc: 0.781401 + 0.00294542\n",
      "[800]\tcv_agg's auc: 0.782891 + 0.00294999\n",
      "[1000]\tcv_agg's auc: 0.783436 + 0.0029842\n",
      "[1200]\tcv_agg's auc: 0.783615 + 0.00300305\n",
      "| \u001b[0m 26      \u001b[0m | \u001b[0m 0.7836  \u001b[0m | \u001b[0m 0.9979  \u001b[0m | \u001b[0m 0.3254  \u001b[0m | \u001b[0m 0.263   \u001b[0m | \u001b[0m 1.803   \u001b[0m | \u001b[0m 0.01896 \u001b[0m | \u001b[0m 5.111   \u001b[0m | \u001b[0m 48.93   \u001b[0m | \u001b[0m 0.05147 \u001b[0m | \u001b[0m 27.61   \u001b[0m |\n",
      "[200]\tcv_agg's auc: 0.764369 + 0.00259071\n",
      "[400]\tcv_agg's auc: 0.776176 + 0.00259112\n",
      "[600]\tcv_agg's auc: 0.781427 + 0.00267567\n",
      "[800]\tcv_agg's auc: 0.783434 + 0.00271737\n",
      "[1000]\tcv_agg's auc: 0.784293 + 0.00275628\n",
      "[1200]\tcv_agg's auc: 0.784821 + 0.00276499\n",
      "[1400]\tcv_agg's auc: 0.785113 + 0.00278235\n",
      "| \u001b[0m 27      \u001b[0m | \u001b[0m 0.7853  \u001b[0m | \u001b[0m 0.9578  \u001b[0m | \u001b[0m 0.1141  \u001b[0m | \u001b[0m 0.2258  \u001b[0m | \u001b[0m 2.352   \u001b[0m | \u001b[0m 0.02449 \u001b[0m | \u001b[0m 5.231   \u001b[0m | \u001b[0m 5.082   \u001b[0m | \u001b[0m 0.05857 \u001b[0m | \u001b[0m 283.9   \u001b[0m |\n",
      "[200]\tcv_agg's auc: 0.752387 + 0.00251699\n",
      "[400]\tcv_agg's auc: 0.762135 + 0.00256021\n",
      "[600]\tcv_agg's auc: 0.770168 + 0.00257559\n",
      "[800]\tcv_agg's auc: 0.775703 + 0.00258558\n",
      "[1000]\tcv_agg's auc: 0.778432 + 0.00261014\n",
      "[1200]\tcv_agg's auc: 0.780408 + 0.00263257\n",
      "[1400]\tcv_agg's auc: 0.781861 + 0.00265657\n",
      "[1600]\tcv_agg's auc: 0.782794 + 0.00267944\n",
      "[1800]\tcv_agg's auc: 0.783496 + 0.0027174\n",
      "[2000]\tcv_agg's auc: 0.78401 + 0.00272821\n",
      "[2200]\tcv_agg's auc: 0.784472 + 0.00275068\n",
      "[2400]\tcv_agg's auc: 0.784705 + 0.00275532\n",
      "[2600]\tcv_agg's auc: 0.784925 + 0.00276204\n",
      "[2800]\tcv_agg's auc: 0.785105 + 0.00277283\n",
      "| \u001b[0m 28      \u001b[0m | \u001b[0m 0.7852  \u001b[0m | \u001b[0m 0.968   \u001b[0m | \u001b[0m 0.1009  \u001b[0m | \u001b[0m 0.1988  \u001b[0m | \u001b[0m 2.551   \u001b[0m | \u001b[0m 0.01282 \u001b[0m | \u001b[0m 5.35    \u001b[0m | \u001b[0m 5.139   \u001b[0m | \u001b[0m 0.03422 \u001b[0m | \u001b[0m 267.8   \u001b[0m |\n",
      "[200]\tcv_agg's auc: 0.765295 + 0.00258105\n",
      "[400]\tcv_agg's auc: 0.776827 + 0.00258477\n",
      "[600]\tcv_agg's auc: 0.781811 + 0.00264911\n",
      "[800]\tcv_agg's auc: 0.7837 + 0.00269487\n",
      "[1000]\tcv_agg's auc: 0.784503 + 0.00271903\n",
      "[1200]\tcv_agg's auc: 0.78498 + 0.00274066\n",
      "[1400]\tcv_agg's auc: 0.785243 + 0.0027255\n",
      "[1600]\tcv_agg's auc: 0.785427 + 0.00277164\n",
      "| \u001b[0m 29      \u001b[0m | \u001b[0m 0.7854  \u001b[0m | \u001b[0m 0.9405  \u001b[0m | \u001b[0m 0.1139  \u001b[0m | \u001b[0m 0.2936  \u001b[0m | \u001b[0m 0.4484  \u001b[0m | \u001b[0m 0.02553 \u001b[0m | \u001b[0m 5.66    \u001b[0m | \u001b[0m 5.406   \u001b[0m | \u001b[0m 0.0869  \u001b[0m | \u001b[0m 294.0   \u001b[0m |\n",
      "[200]\tcv_agg's auc: 0.770299 + 0.00283103\n",
      "[400]\tcv_agg's auc: 0.780041 + 0.00293995\n",
      "[600]\tcv_agg's auc: 0.782859 + 0.00296916\n",
      "[800]\tcv_agg's auc: 0.783926 + 0.00300818\n",
      "[1000]\tcv_agg's auc: 0.78443 + 0.00299376\n",
      "[1200]\tcv_agg's auc: 0.78457 + 0.00297553\n",
      "| \u001b[0m 30      \u001b[0m | \u001b[0m 0.7846  \u001b[0m | \u001b[0m 0.966   \u001b[0m | \u001b[0m 0.2298  \u001b[0m | \u001b[0m 0.023   \u001b[0m | \u001b[0m 2.732   \u001b[0m | \u001b[0m 0.02355 \u001b[0m | \u001b[0m 5.004   \u001b[0m | \u001b[0m 5.072   \u001b[0m | \u001b[0m 0.01945 \u001b[0m | \u001b[0m 292.4   \u001b[0m |\n",
      "=====================================================================================================================================\n"
     ]
    }
   ],
   "source": [
    "opt_params = lgbBO.maximize(init_points=init_round, n_iter=opt_round)"
   ]
  },
  {
   "cell_type": "markdown",
   "metadata": {},
   "source": [
    "|   iter    |  target   | baggin... | featur... | lambda_l1 | lambda_l2 | learni... | max_depth | min_ch... | min_sp... | num_le... |\n",
    "|  16       |  0.7856   |  0.9174   |  0.1062   |  0.07204  |  0.006567 |  0.01995  |  5.142    |  6.584    |  0.09796  |  297.4    |"
   ]
  },
  {
   "cell_type": "code",
   "execution_count": 68,
   "metadata": {},
   "outputs": [],
   "source": [
    "# for making train - valid sets\n",
    "from sklearn.model_selection import train_test_split\n",
    "\n",
    "#Split in 80% train and 20% test set\n",
    "train_df, val_df = train_test_split(train, test_size = 0.1, random_state=random_state)\n",
    "\n",
    "#Define 'y' labels\n",
    "train_y = train_df.target\n",
    "val_y = val_df.target\n",
    "\n",
    "#Define 'x' sets\n",
    "train_x = train_df.drop(['target'], axis = 1)\n",
    "val_x = val_df.drop(['target'], axis = 1)"
   ]
  },
  {
   "cell_type": "code",
   "execution_count": 69,
   "metadata": {},
   "outputs": [],
   "source": [
    "train_data = lgb.Dataset(data=train_x, label=train_y, categorical_feature = new_cat_names, free_raw_data=False)\n",
    "val_data = lgb.Dataset(data=val_x, label=val_y, categorical_feature = new_cat_names, free_raw_data=False)"
   ]
  },
  {
   "cell_type": "code",
   "execution_count": 70,
   "metadata": {},
   "outputs": [],
   "source": [
    "params = {'objective':'binary',\n",
    "        'num_iterations':15000, \n",
    "        'early_stopping_round':100, \n",
    "        'metric':'auc',\n",
    "        'num_leaves': round(int(297.4)),\n",
    "        'learning_rate':0.01995,\n",
    "        'feature_fraction': 0.1062,\n",
    "        'bagging_fraction': 0.9174,\n",
    "        'max_depth': round(int(5.142)),\n",
    "        'lambda_l1': 0.07204,\n",
    "        'lambda_l2': 0.006567,\n",
    "        'min_split_gain': 0.09796,\n",
    "        'min_child_weight': 6.584,\n",
    "        'seed':random_state}"
   ]
  },
  {
   "cell_type": "code",
   "execution_count": 71,
   "metadata": {},
   "outputs": [
    {
     "name": "stdout",
     "output_type": "stream",
     "text": [
      "Training until validation scores don't improve for 100 rounds.\n",
      "[200]\tvalid_0's auc: 0.759493\n",
      "[400]\tvalid_0's auc: 0.772221\n",
      "[600]\tvalid_0's auc: 0.777401\n",
      "[800]\tvalid_0's auc: 0.78143\n",
      "[1000]\tvalid_0's auc: 0.783015\n",
      "[1200]\tvalid_0's auc: 0.783901\n",
      "[1400]\tvalid_0's auc: 0.784419\n",
      "[1600]\tvalid_0's auc: 0.784867\n",
      "[1800]\tvalid_0's auc: 0.785288\n",
      "[2000]\tvalid_0's auc: 0.785434\n",
      "[2200]\tvalid_0's auc: 0.785606\n",
      "[2400]\tvalid_0's auc: 0.785703\n",
      "[2600]\tvalid_0's auc: 0.785842\n",
      "[2800]\tvalid_0's auc: 0.785897\n",
      "[3000]\tvalid_0's auc: 0.785935\n",
      "[3200]\tvalid_0's auc: 0.786034\n",
      "[3400]\tvalid_0's auc: 0.786074\n",
      "[3600]\tvalid_0's auc: 0.786147\n",
      "Early stopping, best iteration is:\n",
      "[3666]\tvalid_0's auc: 0.786164\n"
     ]
    }
   ],
   "source": [
    "lgbm = lgb.train(params,\n",
    "                 train_data,\n",
    "                 num_boost_round=40000,\n",
    "                 valid_sets=val_data,\n",
    "                 early_stopping_rounds=100,\n",
    "                 verbose_eval=200,\n",
    "                 )"
   ]
  },
  {
   "cell_type": "code",
   "execution_count": 89,
   "metadata": {},
   "outputs": [],
   "source": [
    "y_pred = lgbm.predict(X_test, num_iteration=lgbm.best_iteration)"
   ]
  },
  {
   "cell_type": "code",
   "execution_count": 91,
   "metadata": {},
   "outputs": [
    {
     "data": {
      "text/plain": [
       "<lightgbm.basic.Booster at 0x7f53f48981d0>"
      ]
     },
     "execution_count": 91,
     "metadata": {},
     "output_type": "execute_result"
    }
   ],
   "source": [
    "lgbm.save_model('model.txt')"
   ]
  },
  {
   "cell_type": "code",
   "execution_count": 92,
   "metadata": {},
   "outputs": [],
   "source": [
    "sub = pd.read_csv('sample_submission.csv')\n",
    "sub.target = y_pred"
   ]
  },
  {
   "cell_type": "code",
   "execution_count": 96,
   "metadata": {},
   "outputs": [],
   "source": [
    "sub.to_csv('submit.csv', index=False)"
   ]
  },
  {
   "cell_type": "code",
   "execution_count": null,
   "metadata": {},
   "outputs": [],
   "source": []
  }
 ],
 "metadata": {
  "kernelspec": {
   "display_name": "Python 3",
   "language": "python",
   "name": "python3"
  },
  "language_info": {
   "codemirror_mode": {
    "name": "ipython",
    "version": 3
   },
   "file_extension": ".py",
   "mimetype": "text/x-python",
   "name": "python",
   "nbconvert_exporter": "python",
   "pygments_lexer": "ipython3",
   "version": "3.7.5"
  }
 },
 "nbformat": 4,
 "nbformat_minor": 4
}
