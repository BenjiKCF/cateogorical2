{
 "cells": [
  {
   "cell_type": "code",
   "execution_count": 1,
   "metadata": {},
   "outputs": [],
   "source": [
    "# 1. FASTAI \n",
    "# 2. EMB + LIGHTGBM \n",
    "# 3. LOGISTIC\n",
    "# 4. deepfm\n",
    "# 5. catboost\n",
    "# 6. h2o"
   ]
  },
  {
   "cell_type": "code",
   "execution_count": 2,
   "metadata": {},
   "outputs": [],
   "source": [
    "import warnings\n",
    "warnings.filterwarnings(\"ignore\")\n",
    "import pandas as pd\n",
    "import numpy as np\n",
    "import time\n",
    "import lightgbm as lgb\n",
    "from bayes_opt import BayesianOptimization\n",
    "from sklearn.preprocessing import LabelEncoder\n",
    "import gc"
   ]
  },
  {
   "cell_type": "code",
   "execution_count": 3,
   "metadata": {},
   "outputs": [],
   "source": [
    "TARGET = 'target'\n",
    "random_state = 0 \n",
    "n_estimators = 10000\n",
    "learning_rate=0.01"
   ]
  },
  {
   "cell_type": "code",
   "execution_count": 4,
   "metadata": {},
   "outputs": [],
   "source": [
    "train = pd.read_csv('train.csv')\n",
    "test = pd.read_csv('test.csv')"
   ]
  },
  {
   "cell_type": "code",
   "execution_count": 5,
   "metadata": {},
   "outputs": [
    {
     "name": "stdout",
     "output_type": "stream",
     "text": [
      "17 (600000, 23) (600000,) 0.187205\n"
     ]
    }
   ],
   "source": [
    "X = train.drop(['id','target'], axis = 1)\n",
    "categorical_features = [col for c, col in enumerate(X.columns) \\\n",
    "                        if not ( np.issubdtype(X.dtypes[c], np.number )  )  ]\n",
    "y = train['target']\n",
    "print( len(categorical_features), X.shape, y.shape, y.mean()  )\n",
    "for f in categorical_features:\n",
    "    X[f] = X[f].astype('category')"
   ]
  },
  {
   "cell_type": "code",
   "execution_count": 6,
   "metadata": {},
   "outputs": [],
   "source": [
    "# for making train - valid sets\n",
    "from sklearn.model_selection import train_test_split\n",
    "\n",
    "#Split in 80% train and 20% test set\n",
    "train_df, val_df = train_test_split(train, test_size = 0.2, shuffle=False)\n",
    "\n",
    "#Define 'y' labels\n",
    "train_y = train_df.target\n",
    "val_y = val_df.target\n",
    "\n",
    "#Define 'x' sets\n",
    "train_x = train_df.drop(['id','target'], axis = 1)\n",
    "val_x = val_df.drop(['id','target'], axis = 1)\n",
    "\n",
    "categorical_features = [col for c, col in enumerate(train_x.columns) \\\n",
    "                        if not ( np.issubdtype(train_x.dtypes[c], np.number )  )  ]\n",
    "\n",
    "for f in categorical_features:\n",
    "    train_x[f] = train_x[f].astype('category')\n",
    "    val_x[f] = val_x[f].astype('category')\n"
   ]
  },
  {
   "cell_type": "code",
   "execution_count": 7,
   "metadata": {},
   "outputs": [],
   "source": [
    "train_data = lgb.Dataset(data=train_x, label=train_y, categorical_feature = X.columns.tolist(), free_raw_data=False)\n",
    "val_data = lgb.Dataset(data=val_x, label=val_y, categorical_feature = X.columns.tolist(), free_raw_data=False)"
   ]
  },
  {
   "cell_type": "code",
   "execution_count": 8,
   "metadata": {},
   "outputs": [],
   "source": [
    "params = {'objective':'binary',\n",
    "        'num_iterations':15000, \n",
    "        'early_stopping_round':100, \n",
    "        'metric':'auc',\n",
    "        'num_leaves': round(int(24.23)),\n",
    "        'learning_rate':0.02407,\n",
    "        'feature_fraction': 0.102,\n",
    "        'bagging_fraction': 0.8264,\n",
    "        'max_depth': round(int(5.608)),\n",
    "        'lambda_l1': 4.948,\n",
    "        'lambda_l2': 0.06873,\n",
    "        'min_split_gain': 0.08549,\n",
    "        'min_child_weight': 47.9,\n",
    "        'seed':random_state}"
   ]
  },
  {
   "cell_type": "code",
   "execution_count": 9,
   "metadata": {},
   "outputs": [
    {
     "name": "stdout",
     "output_type": "stream",
     "text": [
      "Training until validation scores don't improve for 100 rounds.\n",
      "[200]\tvalid_0's auc: 0.77852\n",
      "[400]\tvalid_0's auc: 0.782627\n",
      "[600]\tvalid_0's auc: 0.783946\n",
      "[800]\tvalid_0's auc: 0.784686\n",
      "[1000]\tvalid_0's auc: 0.784868\n",
      "Early stopping, best iteration is:\n",
      "[977]\tvalid_0's auc: 0.784938\n"
     ]
    }
   ],
   "source": [
    "lgbm = lgb.train(params,\n",
    "                 train_data,\n",
    "                 num_boost_round=40000,\n",
    "                 valid_sets=val_data,\n",
    "                 early_stopping_rounds=100,\n",
    "                 verbose_eval=200,\n",
    "                 )"
   ]
  },
  {
   "cell_type": "code",
   "execution_count": 10,
   "metadata": {},
   "outputs": [],
   "source": [
    "y_val_pred = lgbm.predict(val_x, num_iteration=lgbm.best_iteration)"
   ]
  },
  {
   "cell_type": "code",
   "execution_count": 11,
   "metadata": {},
   "outputs": [
    {
     "data": {
      "text/plain": [
       "array([0.14577832, 0.06454615, 0.01973111, ..., 0.12721572, 0.19804599,\n",
       "       0.1152337 ])"
      ]
     },
     "execution_count": 11,
     "metadata": {},
     "output_type": "execute_result"
    }
   ],
   "source": [
    "y_val_pred"
   ]
  },
  {
   "cell_type": "code",
   "execution_count": 12,
   "metadata": {},
   "outputs": [
    {
     "data": {
      "text/plain": [
       "(120000,)"
      ]
     },
     "execution_count": 12,
     "metadata": {},
     "output_type": "execute_result"
    }
   ],
   "source": [
    "y_val_pred.shape"
   ]
  },
  {
   "cell_type": "code",
   "execution_count": 20,
   "metadata": {},
   "outputs": [],
   "source": [
    "X_test = test.drop(['id'], axis = 1)\n",
    "\n",
    "for f in categorical_features:\n",
    "    X_test[f] = X_test[f].astype('category')"
   ]
  },
  {
   "cell_type": "code",
   "execution_count": 21,
   "metadata": {},
   "outputs": [],
   "source": [
    "y_pred = lgbm.predict(X_test, num_iteration=lgbm.best_iteration)"
   ]
  },
  {
   "cell_type": "code",
   "execution_count": 17,
   "metadata": {},
   "outputs": [],
   "source": [
    "val_pred = pd.DataFrame(y_val_pred, columns=['val'])\n",
    "val_pred.to_csv('2_val.csv', index=False)"
   ]
  },
  {
   "cell_type": "code",
   "execution_count": 26,
   "metadata": {},
   "outputs": [],
   "source": [
    "test_pred = pd.DataFrame(y_pred, columns=['test'])\n",
    "test_pred.to_csv('2_pred.csv', index=False)"
   ]
  },
  {
   "cell_type": "code",
   "execution_count": null,
   "metadata": {},
   "outputs": [],
   "source": []
  },
  {
   "cell_type": "code",
   "execution_count": null,
   "metadata": {},
   "outputs": [],
   "source": []
  }
 ],
 "metadata": {
  "kernelspec": {
   "display_name": "Python 3",
   "language": "python",
   "name": "python3"
  },
  "language_info": {
   "codemirror_mode": {
    "name": "ipython",
    "version": 3
   },
   "file_extension": ".py",
   "mimetype": "text/x-python",
   "name": "python",
   "nbconvert_exporter": "python",
   "pygments_lexer": "ipython3",
   "version": "3.7.5"
  }
 },
 "nbformat": 4,
 "nbformat_minor": 4
}
