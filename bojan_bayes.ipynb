{
 "cells": [
  {
   "cell_type": "markdown",
   "metadata": {},
   "source": [
    "https://github.com/WillKoehrsen/hyperparameter-optimization/blob/master/Bayesian%20Hyperparameter%20Optimization%20of%20Gradient%20Boosting%20Machine.ipynb"
   ]
  },
  {
   "cell_type": "code",
   "execution_count": 1,
   "metadata": {},
   "outputs": [],
   "source": [
    "import warnings\n",
    "warnings.filterwarnings(\"ignore\")\n",
    "import pandas as pd\n",
    "import numpy as np\n",
    "import time\n",
    "import lightgbm as lgb\n",
    "from bayes_opt import BayesianOptimization\n",
    "from sklearn.preprocessing import LabelEncoder\n",
    "import gc"
   ]
  },
  {
   "cell_type": "code",
   "execution_count": 2,
   "metadata": {},
   "outputs": [],
   "source": [
    "TARGET = 'target'\n",
    "init_round=15\n",
    "opt_round= 15\n",
    "n_folds=10\n",
    "random_state = 0 \n",
    "n_estimators = 10000\n",
    "learning_rate=0.01"
   ]
  },
  {
   "cell_type": "code",
   "execution_count": 3,
   "metadata": {},
   "outputs": [],
   "source": [
    "train = pd.read_csv('X_train_te.csv')\n",
    "test = pd.read_csv('X_test_te.csv')"
   ]
  },
  {
   "cell_type": "code",
   "execution_count": 4,
   "metadata": {},
   "outputs": [
    {
     "data": {
      "text/html": [
       "<div>\n",
       "<style scoped>\n",
       "    .dataframe tbody tr th:only-of-type {\n",
       "        vertical-align: middle;\n",
       "    }\n",
       "\n",
       "    .dataframe tbody tr th {\n",
       "        vertical-align: top;\n",
       "    }\n",
       "\n",
       "    .dataframe thead th {\n",
       "        text-align: right;\n",
       "    }\n",
       "</style>\n",
       "<table border=\"1\" class=\"dataframe\">\n",
       "  <thead>\n",
       "    <tr style=\"text-align: right;\">\n",
       "      <th></th>\n",
       "      <th>bin_0</th>\n",
       "      <th>bin_1</th>\n",
       "      <th>bin_2</th>\n",
       "      <th>bin_3</th>\n",
       "      <th>bin_4</th>\n",
       "      <th>nom_0</th>\n",
       "      <th>nom_1</th>\n",
       "      <th>nom_2</th>\n",
       "      <th>nom_3</th>\n",
       "      <th>nom_4</th>\n",
       "      <th>...</th>\n",
       "      <th>nom_3_enc</th>\n",
       "      <th>nom_4_enc</th>\n",
       "      <th>nom_5_enc</th>\n",
       "      <th>nom_6_enc</th>\n",
       "      <th>nom_7_enc</th>\n",
       "      <th>nom_8_enc</th>\n",
       "      <th>nom_9_enc</th>\n",
       "      <th>day_enc</th>\n",
       "      <th>month_enc</th>\n",
       "      <th>target</th>\n",
       "    </tr>\n",
       "  </thead>\n",
       "  <tbody>\n",
       "    <tr>\n",
       "      <th>0</th>\n",
       "      <td>0.0</td>\n",
       "      <td>0.0</td>\n",
       "      <td>0.0</td>\n",
       "      <td>0.0</td>\n",
       "      <td>0.0</td>\n",
       "      <td>2</td>\n",
       "      <td>4</td>\n",
       "      <td>3</td>\n",
       "      <td>5</td>\n",
       "      <td>0</td>\n",
       "      <td>...</td>\n",
       "      <td>0.219536</td>\n",
       "      <td>0.206991</td>\n",
       "      <td>0.207101</td>\n",
       "      <td>0.182796</td>\n",
       "      <td>0.096974</td>\n",
       "      <td>0.130056</td>\n",
       "      <td>0.146341</td>\n",
       "      <td>0.198798</td>\n",
       "      <td>0.145765</td>\n",
       "      <td>0</td>\n",
       "    </tr>\n",
       "    <tr>\n",
       "      <th>1</th>\n",
       "      <td>1.0</td>\n",
       "      <td>1.0</td>\n",
       "      <td>0.0</td>\n",
       "      <td>0.0</td>\n",
       "      <td>1.0</td>\n",
       "      <td>2</td>\n",
       "      <td>3</td>\n",
       "      <td>0</td>\n",
       "      <td>-1</td>\n",
       "      <td>3</td>\n",
       "      <td>...</td>\n",
       "      <td>0.186715</td>\n",
       "      <td>0.179422</td>\n",
       "      <td>0.198630</td>\n",
       "      <td>0.214689</td>\n",
       "      <td>0.128219</td>\n",
       "      <td>0.194200</td>\n",
       "      <td>0.142506</td>\n",
       "      <td>0.212862</td>\n",
       "      <td>0.209179</td>\n",
       "      <td>0</td>\n",
       "    </tr>\n",
       "    <tr>\n",
       "      <th>2</th>\n",
       "      <td>0.0</td>\n",
       "      <td>1.0</td>\n",
       "      <td>0.0</td>\n",
       "      <td>0.0</td>\n",
       "      <td>0.0</td>\n",
       "      <td>2</td>\n",
       "      <td>-1</td>\n",
       "      <td>3</td>\n",
       "      <td>0</td>\n",
       "      <td>0</td>\n",
       "      <td>...</td>\n",
       "      <td>0.158121</td>\n",
       "      <td>0.206991</td>\n",
       "      <td>0.178694</td>\n",
       "      <td>0.159091</td>\n",
       "      <td>0.264662</td>\n",
       "      <td>0.176863</td>\n",
       "      <td>0.186347</td>\n",
       "      <td>0.163422</td>\n",
       "      <td>0.212810</td>\n",
       "      <td>0</td>\n",
       "    </tr>\n",
       "    <tr>\n",
       "      <th>3</th>\n",
       "      <td>-1.0</td>\n",
       "      <td>0.0</td>\n",
       "      <td>0.0</td>\n",
       "      <td>0.0</td>\n",
       "      <td>0.0</td>\n",
       "      <td>2</td>\n",
       "      <td>0</td>\n",
       "      <td>3</td>\n",
       "      <td>3</td>\n",
       "      <td>3</td>\n",
       "      <td>...</td>\n",
       "      <td>0.178768</td>\n",
       "      <td>0.179422</td>\n",
       "      <td>0.208511</td>\n",
       "      <td>0.199571</td>\n",
       "      <td>0.151746</td>\n",
       "      <td>0.225241</td>\n",
       "      <td>0.286885</td>\n",
       "      <td>0.163799</td>\n",
       "      <td>0.145765</td>\n",
       "      <td>0</td>\n",
       "    </tr>\n",
       "    <tr>\n",
       "      <th>4</th>\n",
       "      <td>0.0</td>\n",
       "      <td>-1.0</td>\n",
       "      <td>0.0</td>\n",
       "      <td>1.0</td>\n",
       "      <td>0.0</td>\n",
       "      <td>2</td>\n",
       "      <td>5</td>\n",
       "      <td>3</td>\n",
       "      <td>2</td>\n",
       "      <td>-1</td>\n",
       "      <td>...</td>\n",
       "      <td>0.202284</td>\n",
       "      <td>0.183874</td>\n",
       "      <td>0.154303</td>\n",
       "      <td>0.149485</td>\n",
       "      <td>0.196776</td>\n",
       "      <td>0.191346</td>\n",
       "      <td>0.245455</td>\n",
       "      <td>0.163422</td>\n",
       "      <td>0.225295</td>\n",
       "      <td>0</td>\n",
       "    </tr>\n",
       "  </tbody>\n",
       "</table>\n",
       "<p>5 rows × 93 columns</p>\n",
       "</div>"
      ],
      "text/plain": [
       "   bin_0  bin_1  bin_2  bin_3  bin_4  nom_0  nom_1  nom_2  nom_3  nom_4  ...  \\\n",
       "0    0.0    0.0    0.0    0.0    0.0      2      4      3      5      0  ...   \n",
       "1    1.0    1.0    0.0    0.0    1.0      2      3      0     -1      3  ...   \n",
       "2    0.0    1.0    0.0    0.0    0.0      2     -1      3      0      0  ...   \n",
       "3   -1.0    0.0    0.0    0.0    0.0      2      0      3      3      3  ...   \n",
       "4    0.0   -1.0    0.0    1.0    0.0      2      5      3      2     -1  ...   \n",
       "\n",
       "   nom_3_enc  nom_4_enc  nom_5_enc  nom_6_enc  nom_7_enc  nom_8_enc  \\\n",
       "0   0.219536   0.206991   0.207101   0.182796   0.096974   0.130056   \n",
       "1   0.186715   0.179422   0.198630   0.214689   0.128219   0.194200   \n",
       "2   0.158121   0.206991   0.178694   0.159091   0.264662   0.176863   \n",
       "3   0.178768   0.179422   0.208511   0.199571   0.151746   0.225241   \n",
       "4   0.202284   0.183874   0.154303   0.149485   0.196776   0.191346   \n",
       "\n",
       "   nom_9_enc   day_enc  month_enc  target  \n",
       "0   0.146341  0.198798   0.145765       0  \n",
       "1   0.142506  0.212862   0.209179       0  \n",
       "2   0.186347  0.163422   0.212810       0  \n",
       "3   0.286885  0.163799   0.145765       0  \n",
       "4   0.245455  0.163422   0.225295       0  \n",
       "\n",
       "[5 rows x 93 columns]"
      ]
     },
     "execution_count": 4,
     "metadata": {},
     "output_type": "execute_result"
    }
   ],
   "source": [
    "train.head()"
   ]
  },
  {
   "cell_type": "code",
   "execution_count": 5,
   "metadata": {},
   "outputs": [
    {
     "name": "stdout",
     "output_type": "stream",
     "text": [
      "0 (600000, 92) (600000,) 0.187205\n"
     ]
    }
   ],
   "source": [
    "X = train.drop(['target'], axis = 1)\n",
    "categorical_features = [col for c, col in enumerate(X.columns) \\\n",
    "                        if not ( np.issubdtype(X.dtypes[c], np.number )  )  ]\n",
    "y = train['target']\n",
    "print( len(categorical_features), X.shape, y.shape, y.mean()  )\n",
    "for f in categorical_features:\n",
    "    X[f] = X[f].astype('category')"
   ]
  },
  {
   "cell_type": "code",
   "execution_count": 6,
   "metadata": {},
   "outputs": [],
   "source": [
    "train_data = lgb.Dataset(data=X, label=y, categorical_feature = X.columns.tolist(), free_raw_data=False)"
   ]
  },
  {
   "cell_type": "code",
   "execution_count": 7,
   "metadata": {},
   "outputs": [],
   "source": [
    "def lgb_eval(num_leaves, learning_rate, feature_fraction, bagging_fraction, max_depth, lambda_l1, lambda_l2, min_split_gain, min_child_weight):\n",
    "    params = {'objective':'binary','num_iterations':15000, 'early_stopping_round':100, 'metric':'auc'}#\n",
    "    params[\"num_leaves\"] = round(int(num_leaves))\n",
    "    params[\"learning_rate\"] = learning_rate\n",
    "    params['feature_fraction'] = max(min(feature_fraction, 1), 0)\n",
    "    params['bagging_fraction'] = max(min(bagging_fraction, 1), 0)\n",
    "    params['max_depth'] = round(int(max_depth))\n",
    "    params['lambda_l1'] = max(lambda_l1, 0)\n",
    "    params['lambda_l2'] = max(lambda_l2, 0)\n",
    "    params['min_split_gain'] = min_split_gain\n",
    "    params['min_child_weight'] = min_child_weight\n",
    "    cv_result = lgb.cv(params, train_data, nfold=n_folds, seed=random_state, stratified=True, verbose_eval =200)\n",
    "    return max(cv_result['auc-mean'])"
   ]
  },
  {
   "cell_type": "code",
   "execution_count": 8,
   "metadata": {},
   "outputs": [],
   "source": [
    "lgbBO = BayesianOptimization(lgb_eval, {'num_leaves': (24, 300),\n",
    "                                        'learning_rate':(0.01, 0.05),\n",
    "                                        'feature_fraction': (0.1, 0.9),\n",
    "                                        'bagging_fraction': (0.8, 1),\n",
    "                                        'max_depth': (5, 8.99),\n",
    "                                        'lambda_l1': (0, 5),\n",
    "                                        'lambda_l2': (0, 3),\n",
    "                                        'min_split_gain': (0.001, 0.1),\n",
    "                                        'min_child_weight': (5, 50)}, random_state=random_state)"
   ]
  },
  {
   "cell_type": "code",
   "execution_count": 9,
   "metadata": {
    "collapsed": true,
    "jupyter": {
     "outputs_hidden": true
    }
   },
   "outputs": [
    {
     "name": "stdout",
     "output_type": "stream",
     "text": [
      "|   iter    |  target   | baggin... | featur... | lambda_l1 | lambda_l2 | learni... | max_depth | min_ch... | min_sp... | num_le... |\n",
      "-------------------------------------------------------------------------------------------------------------------------------------\n",
      "[200]\tcv_agg's auc: 0.773882 + 0.00241158\n",
      "[400]\tcv_agg's auc: 0.777654 + 0.00243271\n",
      "| \u001b[0m 1       \u001b[0m | \u001b[0m 0.7777  \u001b[0m | \u001b[0m 0.9098  \u001b[0m | \u001b[0m 0.6722  \u001b[0m | \u001b[0m 3.014   \u001b[0m | \u001b[0m 1.635   \u001b[0m | \u001b[0m 0.02695 \u001b[0m | \u001b[0m 7.577   \u001b[0m | \u001b[0m 24.69   \u001b[0m | \u001b[0m 0.08929 \u001b[0m | \u001b[0m 290.0   \u001b[0m |\n",
      "[200]\tcv_agg's auc: 0.777325 + 0.00232291\n",
      "[400]\tcv_agg's auc: 0.779218 + 0.0024149\n",
      "| \u001b[95m 2       \u001b[0m | \u001b[95m 0.7794  \u001b[0m | \u001b[95m 0.8767  \u001b[0m | \u001b[95m 0.7334  \u001b[0m | \u001b[95m 2.644   \u001b[0m | \u001b[95m 1.704   \u001b[0m | \u001b[95m 0.04702 \u001b[0m | \u001b[95m 5.283   \u001b[0m | \u001b[95m 8.921   \u001b[0m | \u001b[95m 0.003002\u001b[0m | \u001b[95m 253.8   \u001b[0m |\n",
      "[200]\tcv_agg's auc: 0.774544 + 0.00242368\n",
      "[400]\tcv_agg's auc: 0.776379 + 0.00237355\n",
      "| \u001b[0m 3       \u001b[0m | \u001b[0m 0.7766  \u001b[0m | \u001b[0m 0.9556  \u001b[0m | \u001b[0m 0.796   \u001b[0m | \u001b[0m 4.893   \u001b[0m | \u001b[0m 2.397   \u001b[0m | \u001b[0m 0.02846 \u001b[0m | \u001b[0m 8.114   \u001b[0m | \u001b[0m 10.32   \u001b[0m | \u001b[0m 0.06435 \u001b[0m | \u001b[0m 63.57   \u001b[0m |\n",
      "[200]\tcv_agg's auc: 0.777101 + 0.00237523\n",
      "[400]\tcv_agg's auc: 0.778716 + 0.00237987\n",
      "| \u001b[0m 4       \u001b[0m | \u001b[0m 0.7789  \u001b[0m | \u001b[0m 0.9889  \u001b[0m | \u001b[0m 0.5175  \u001b[0m | \u001b[0m 2.073   \u001b[0m | \u001b[0m 0.7937  \u001b[0m | \u001b[0m 0.04097 \u001b[0m | \u001b[0m 6.82    \u001b[0m | \u001b[0m 30.58   \u001b[0m | \u001b[0m 0.00286 \u001b[0m | \u001b[0m 194.5   \u001b[0m |\n",
      "[200]\tcv_agg's auc: 0.772602 + 0.00242519\n",
      "[400]\tcv_agg's auc: 0.778756 + 0.00241204\n",
      "[600]\tcv_agg's auc: 0.779421 + 0.00234202\n",
      "| \u001b[95m 5       \u001b[0m | \u001b[95m 0.7795  \u001b[0m | \u001b[95m 0.9224  \u001b[0m | \u001b[95m 0.5935  \u001b[0m | \u001b[95m 4.719   \u001b[0m | \u001b[95m 2.045   \u001b[0m | \u001b[95m 0.02438 \u001b[0m | \u001b[95m 6.744   \u001b[0m | \u001b[95m 36.39   \u001b[0m | \u001b[95m 0.006962\u001b[0m | \u001b[95m 208.0   \u001b[0m |\n",
      "[200]\tcv_agg's auc: 0.774126 + 0.00225325\n",
      "[400]\tcv_agg's auc: 0.780084 + 0.00211999\n",
      "[600]\tcv_agg's auc: 0.780942 + 0.00218379\n",
      "| \u001b[95m 6       \u001b[0m | \u001b[95m 0.781   \u001b[0m | \u001b[95m 0.9341  \u001b[0m | \u001b[95m 0.2683  \u001b[0m | \u001b[95m 0.6446  \u001b[0m | \u001b[95m 0.9463  \u001b[0m | \u001b[95m 0.02455 \u001b[0m | \u001b[95m 7.275   \u001b[0m | \u001b[95m 24.74   \u001b[0m | \u001b[95m 0.09885 \u001b[0m | \u001b[95m 52.16   \u001b[0m |\n",
      "[200]\tcv_agg's auc: 0.773571 + 0.00242048\n",
      "[400]\tcv_agg's auc: 0.780669 + 0.00231069\n",
      "[600]\tcv_agg's auc: 0.782309 + 0.00227552\n",
      "[800]\tcv_agg's auc: 0.7826 + 0.00224323\n",
      "| \u001b[95m 7       \u001b[0m | \u001b[95m 0.7826  \u001b[0m | \u001b[95m 0.8418  \u001b[0m | \u001b[95m 0.229   \u001b[0m | \u001b[95m 3.266   \u001b[0m | \u001b[95m 0.7599  \u001b[0m | \u001b[95m 0.02865 \u001b[0m | \u001b[95m 5.975   \u001b[0m | \u001b[95m 12.15   \u001b[0m | \u001b[95m 0.01193 \u001b[0m | \u001b[95m 205.1   \u001b[0m |\n",
      "[200]\tcv_agg's auc: 0.765877 + 0.00264328\n",
      "[400]\tcv_agg's auc: 0.776344 + 0.00249166\n",
      "[600]\tcv_agg's auc: 0.779253 + 0.00240886\n",
      "[800]\tcv_agg's auc: 0.780186 + 0.0023901\n",
      "[1000]\tcv_agg's auc: 0.780227 + 0.00245127\n",
      "| \u001b[0m 8       \u001b[0m | \u001b[0m 0.7803  \u001b[0m | \u001b[0m 0.8276  \u001b[0m | \u001b[0m 0.2573  \u001b[0m | \u001b[0m 1.844   \u001b[0m | \u001b[0m 2.463   \u001b[0m | \u001b[0m 0.01388 \u001b[0m | \u001b[0m 8.343   \u001b[0m | \u001b[0m 9.324   \u001b[0m | \u001b[0m 0.09767 \u001b[0m | \u001b[0m 153.3   \u001b[0m |\n",
      "[200]\tcv_agg's auc: 0.768838 + 0.0024373\n",
      "[400]\tcv_agg's auc: 0.777898 + 0.00224845\n",
      "[600]\tcv_agg's auc: 0.780258 + 0.00229779\n",
      "[800]\tcv_agg's auc: 0.780689 + 0.00233257\n",
      "| \u001b[0m 9       \u001b[0m | \u001b[0m 0.7807  \u001b[0m | \u001b[0m 0.9954  \u001b[0m | \u001b[0m 0.5839  \u001b[0m | \u001b[0m 3.696   \u001b[0m | \u001b[0m 0.1176  \u001b[0m | \u001b[0m 0.02131 \u001b[0m | \u001b[0m 5.48    \u001b[0m | \u001b[0m 18.33   \u001b[0m | \u001b[0m 0.01275 \u001b[0m | \u001b[0m 111.8   \u001b[0m |\n",
      "[200]\tcv_agg's auc: 0.771969 + 0.00235684\n",
      "[400]\tcv_agg's auc: 0.779424 + 0.0024127\n",
      "[600]\tcv_agg's auc: 0.781514 + 0.0024129\n",
      "[800]\tcv_agg's auc: 0.782034 + 0.00247678\n",
      "[1000]\tcv_agg's auc: 0.78209 + 0.00244684\n",
      "| \u001b[0m 10      \u001b[0m | \u001b[0m 0.7821  \u001b[0m | \u001b[0m 0.8829  \u001b[0m | \u001b[0m 0.1513  \u001b[0m | \u001b[0m 3.462   \u001b[0m | \u001b[0m 1.7     \u001b[0m | \u001b[0m 0.02062 \u001b[0m | \u001b[0m 7.088   \u001b[0m | \u001b[0m 9.227   \u001b[0m | \u001b[0m 0.05802 \u001b[0m | \u001b[0m 280.5   \u001b[0m |\n",
      "[200]\tcv_agg's auc: 0.768971 + 0.00235746\n",
      "[400]\tcv_agg's auc: 0.777862 + 0.00230108\n",
      "[600]\tcv_agg's auc: 0.780144 + 0.00234675\n",
      "[800]\tcv_agg's auc: 0.780491 + 0.00233701\n",
      "| \u001b[0m 11      \u001b[0m | \u001b[0m 0.7805  \u001b[0m | \u001b[0m 0.8637  \u001b[0m | \u001b[0m 0.6339  \u001b[0m | \u001b[0m 0.659   \u001b[0m | \u001b[0m 2.149   \u001b[0m | \u001b[0m 0.02158 \u001b[0m | \u001b[0m 5.731   \u001b[0m | \u001b[0m 31.39   \u001b[0m | \u001b[0m 0.002991\u001b[0m | \u001b[0m 252.8   \u001b[0m |\n",
      "[200]\tcv_agg's auc: 0.778023 + 0.00236165\n",
      "[400]\tcv_agg's auc: 0.779686 + 0.00237052\n",
      "| \u001b[0m 12      \u001b[0m | \u001b[0m 0.7799  \u001b[0m | \u001b[0m 0.8009  \u001b[0m | \u001b[0m 0.6423  \u001b[0m | \u001b[0m 1.35    \u001b[0m | \u001b[0m 2.206   \u001b[0m | \u001b[0m 0.04849 \u001b[0m | \u001b[0m 5.993   \u001b[0m | \u001b[0m 30.93   \u001b[0m | \u001b[0m 0.05961 \u001b[0m | \u001b[0m 181.9   \u001b[0m |\n",
      "[200]\tcv_agg's auc: 0.77622 + 0.00223412\n",
      "[400]\tcv_agg's auc: 0.777763 + 0.00222715\n",
      "| \u001b[0m 13      \u001b[0m | \u001b[0m 0.778   \u001b[0m | \u001b[0m 0.8446  \u001b[0m | \u001b[0m 0.8622  \u001b[0m | \u001b[0m 2.236   \u001b[0m | \u001b[0m 2.539   \u001b[0m | \u001b[0m 0.03798 \u001b[0m | \u001b[0m 6.187   \u001b[0m | \u001b[0m 41.62   \u001b[0m | \u001b[0m 0.04025 \u001b[0m | \u001b[0m 267.2   \u001b[0m |\n",
      "[200]\tcv_agg's auc: 0.774148 + 0.00245366\n",
      "[400]\tcv_agg's auc: 0.775686 + 0.00246538\n",
      "| \u001b[0m 14      \u001b[0m | \u001b[0m 0.7759  \u001b[0m | \u001b[0m 0.9163  \u001b[0m | \u001b[0m 0.8054  \u001b[0m | \u001b[0m 3.463   \u001b[0m | \u001b[0m 2.176   \u001b[0m | \u001b[0m 0.03005 \u001b[0m | \u001b[0m 8.815   \u001b[0m | \u001b[0m 33.98   \u001b[0m | \u001b[0m 0.04296 \u001b[0m | \u001b[0m 191.4   \u001b[0m |\n",
      "[200]\tcv_agg's auc: 0.776573 + 0.00252594\n",
      "[400]\tcv_agg's auc: 0.780442 + 0.00239244\n",
      "| \u001b[0m 15      \u001b[0m | \u001b[0m 0.7805  \u001b[0m | \u001b[0m 0.8038  \u001b[0m | \u001b[0m 0.3413  \u001b[0m | \u001b[0m 3.301   \u001b[0m | \u001b[0m 0.8702  \u001b[0m | \u001b[0m 0.03472 \u001b[0m | \u001b[0m 6.711   \u001b[0m | \u001b[0m 11.1    \u001b[0m | \u001b[0m 0.03053 \u001b[0m | \u001b[0m 181.3   \u001b[0m |\n",
      "[200]\tcv_agg's auc: 0.76915 + 0.00216346\n",
      "[400]\tcv_agg's auc: 0.777529 + 0.002196\n",
      "[600]\tcv_agg's auc: 0.781341 + 0.00222571\n",
      "[800]\tcv_agg's auc: 0.782932 + 0.00224029\n",
      "[1000]\tcv_agg's auc: 0.783645 + 0.00226666\n",
      "[1200]\tcv_agg's auc: 0.783917 + 0.00222997\n",
      "[1400]\tcv_agg's auc: 0.784111 + 0.00225535\n",
      "| \u001b[95m 16      \u001b[0m | \u001b[95m 0.7841  \u001b[0m | \u001b[95m 0.9174  \u001b[0m | \u001b[95m 0.1062  \u001b[0m | \u001b[95m 0.07204 \u001b[0m | \u001b[95m 0.006567\u001b[0m | \u001b[95m 0.01995 \u001b[0m | \u001b[95m 5.142   \u001b[0m | \u001b[95m 6.584   \u001b[0m | \u001b[95m 0.09796 \u001b[0m | \u001b[95m 297.4   \u001b[0m |\n",
      "[200]\tcv_agg's auc: 0.777639 + 0.00217271\n",
      "[400]\tcv_agg's auc: 0.779377 + 0.00231373\n",
      "| \u001b[0m 17      \u001b[0m | \u001b[0m 0.7796  \u001b[0m | \u001b[0m 0.9002  \u001b[0m | \u001b[0m 0.6835  \u001b[0m | \u001b[0m 0.04317 \u001b[0m | \u001b[0m 0.2712  \u001b[0m | \u001b[0m 0.04683 \u001b[0m | \u001b[0m 5.305   \u001b[0m | \u001b[0m 5.109   \u001b[0m | \u001b[0m 0.01191 \u001b[0m | \u001b[0m 167.7   \u001b[0m |\n",
      "[200]\tcv_agg's auc: 0.776407 + 0.0022653\n",
      "[400]\tcv_agg's auc: 0.782323 + 0.00227452\n",
      "[600]\tcv_agg's auc: 0.783543 + 0.00233653\n",
      "| \u001b[0m 18      \u001b[0m | \u001b[0m 0.7836  \u001b[0m | \u001b[0m 0.9771  \u001b[0m | \u001b[0m 0.1262  \u001b[0m | \u001b[0m 0.1375  \u001b[0m | \u001b[0m 2.841   \u001b[0m | \u001b[0m 0.03731 \u001b[0m | \u001b[0m 5.053   \u001b[0m | \u001b[0m 49.61   \u001b[0m | \u001b[0m 0.05514 \u001b[0m | \u001b[0m 25.1    \u001b[0m |\n",
      "[200]\tcv_agg's auc: 0.759472 + 0.00239789\n",
      "[400]\tcv_agg's auc: 0.769006 + 0.00228425\n",
      "[600]\tcv_agg's auc: 0.775064 + 0.00220932\n",
      "[800]\tcv_agg's auc: 0.778616 + 0.0021789\n",
      "[1000]\tcv_agg's auc: 0.780561 + 0.00216795\n",
      "[1200]\tcv_agg's auc: 0.782048 + 0.00217764\n",
      "[1400]\tcv_agg's auc: 0.782866 + 0.00220961\n",
      "[1600]\tcv_agg's auc: 0.783528 + 0.0021906\n",
      "[1800]\tcv_agg's auc: 0.783996 + 0.00219461\n",
      "[2000]\tcv_agg's auc: 0.784233 + 0.00221205\n",
      "[2200]\tcv_agg's auc: 0.784406 + 0.002225\n",
      "[2400]\tcv_agg's auc: 0.784532 + 0.00224496\n",
      "| \u001b[95m 19      \u001b[0m | \u001b[95m 0.7846  \u001b[0m | \u001b[95m 0.9539  \u001b[0m | \u001b[95m 0.1041  \u001b[0m | \u001b[95m 3.114   \u001b[0m | \u001b[95m 0.08302 \u001b[0m | \u001b[95m 0.01104 \u001b[0m | \u001b[95m 5.327   \u001b[0m | \u001b[95m 46.5    \u001b[0m | \u001b[95m 0.0375  \u001b[0m | \u001b[95m 26.51   \u001b[0m |\n",
      "[200]\tcv_agg's auc: 0.778392 + 0.00244047\n",
      "[400]\tcv_agg's auc: 0.780675 + 0.002351\n",
      "| \u001b[0m 20      \u001b[0m | \u001b[0m 0.7808  \u001b[0m | \u001b[0m 0.8526  \u001b[0m | \u001b[0m 0.4189  \u001b[0m | \u001b[0m 1.094   \u001b[0m | \u001b[0m 0.6263  \u001b[0m | \u001b[0m 0.04852 \u001b[0m | \u001b[0m 5.009   \u001b[0m | \u001b[0m 49.87   \u001b[0m | \u001b[0m 0.0838  \u001b[0m | \u001b[0m 26.53   \u001b[0m |\n",
      "[200]\tcv_agg's auc: 0.776632 + 0.00221914\n",
      "[400]\tcv_agg's auc: 0.782048 + 0.00214459\n",
      "[600]\tcv_agg's auc: 0.782931 + 0.00221434\n",
      "| \u001b[0m 21      \u001b[0m | \u001b[0m 0.783   \u001b[0m | \u001b[0m 0.8307  \u001b[0m | \u001b[0m 0.1609  \u001b[0m | \u001b[0m 4.223   \u001b[0m | \u001b[0m 0.5845  \u001b[0m | \u001b[0m 0.03786 \u001b[0m | \u001b[0m 5.027   \u001b[0m | \u001b[0m 5.575   \u001b[0m | \u001b[0m 0.05604 \u001b[0m | \u001b[0m 27.28   \u001b[0m |\n",
      "[200]\tcv_agg's auc: 0.771849 + 0.00228013\n",
      "[400]\tcv_agg's auc: 0.78008 + 0.0022624\n",
      "[600]\tcv_agg's auc: 0.78253 + 0.0022378\n",
      "[800]\tcv_agg's auc: 0.783384 + 0.00221777\n",
      "[1000]\tcv_agg's auc: 0.783615 + 0.00223797\n",
      "[1200]\tcv_agg's auc: 0.783615 + 0.002232\n",
      "| \u001b[0m 22      \u001b[0m | \u001b[0m 0.7837  \u001b[0m | \u001b[0m 0.8952  \u001b[0m | \u001b[0m 0.142   \u001b[0m | \u001b[0m 0.1232  \u001b[0m | \u001b[0m 0.8917  \u001b[0m | \u001b[0m 0.02542 \u001b[0m | \u001b[0m 5.02    \u001b[0m | \u001b[0m 5.46    \u001b[0m | \u001b[0m 0.01521 \u001b[0m | \u001b[0m 299.7   \u001b[0m |\n",
      "[200]\tcv_agg's auc: 0.758221 + 0.00226946\n",
      "[400]\tcv_agg's auc: 0.768251 + 0.00223054\n",
      "[600]\tcv_agg's auc: 0.774477 + 0.0021738\n",
      "[800]\tcv_agg's auc: 0.777843 + 0.0021561\n",
      "[1000]\tcv_agg's auc: 0.780201 + 0.00214535\n",
      "[1200]\tcv_agg's auc: 0.781669 + 0.00214857\n"
     ]
    },
    {
     "ename": "KeyboardInterrupt",
     "evalue": "",
     "output_type": "error",
     "traceback": [
      "\u001b[0;31m---------------------------------------------------------------------------\u001b[0m",
      "\u001b[0;31mKeyError\u001b[0m                                  Traceback (most recent call last)",
      "\u001b[0;32m~/anaconda3/envs/fastai2/lib/python3.7/site-packages/bayes_opt/target_space.py\u001b[0m in \u001b[0;36mprobe\u001b[0;34m(self, params)\u001b[0m\n\u001b[1;32m    190\u001b[0m         \u001b[0;32mtry\u001b[0m\u001b[0;34m:\u001b[0m\u001b[0;34m\u001b[0m\u001b[0;34m\u001b[0m\u001b[0m\n\u001b[0;32m--> 191\u001b[0;31m             \u001b[0mtarget\u001b[0m \u001b[0;34m=\u001b[0m \u001b[0mself\u001b[0m\u001b[0;34m.\u001b[0m\u001b[0m_cache\u001b[0m\u001b[0;34m[\u001b[0m\u001b[0m_hashable\u001b[0m\u001b[0;34m(\u001b[0m\u001b[0mx\u001b[0m\u001b[0;34m)\u001b[0m\u001b[0;34m]\u001b[0m\u001b[0;34m\u001b[0m\u001b[0;34m\u001b[0m\u001b[0m\n\u001b[0m\u001b[1;32m    192\u001b[0m         \u001b[0;32mexcept\u001b[0m \u001b[0mKeyError\u001b[0m\u001b[0;34m:\u001b[0m\u001b[0;34m\u001b[0m\u001b[0;34m\u001b[0m\u001b[0m\n",
      "\u001b[0;31mKeyError\u001b[0m: (0.9151288908238066, 0.10635640520106655, 0.8033703242045698, 0.98070712979365, 0.010089802626977487, 5.050349972601872, 7.6165503643716725, 0.0693589270661809, 24.031867820829696)",
      "\nDuring handling of the above exception, another exception occurred:\n",
      "\u001b[0;31mKeyboardInterrupt\u001b[0m                         Traceback (most recent call last)",
      "\u001b[0;32m<ipython-input-9-17380c88fd33>\u001b[0m in \u001b[0;36m<module>\u001b[0;34m\u001b[0m\n\u001b[0;32m----> 1\u001b[0;31m \u001b[0mopt_params\u001b[0m \u001b[0;34m=\u001b[0m \u001b[0mlgbBO\u001b[0m\u001b[0;34m.\u001b[0m\u001b[0mmaximize\u001b[0m\u001b[0;34m(\u001b[0m\u001b[0minit_points\u001b[0m\u001b[0;34m=\u001b[0m\u001b[0minit_round\u001b[0m\u001b[0;34m,\u001b[0m \u001b[0mn_iter\u001b[0m\u001b[0;34m=\u001b[0m\u001b[0mopt_round\u001b[0m\u001b[0;34m)\u001b[0m\u001b[0;34m\u001b[0m\u001b[0;34m\u001b[0m\u001b[0m\n\u001b[0m",
      "\u001b[0;32m~/anaconda3/envs/fastai2/lib/python3.7/site-packages/bayes_opt/bayesian_optimization.py\u001b[0m in \u001b[0;36mmaximize\u001b[0;34m(self, init_points, n_iter, acq, kappa, xi, **gp_params)\u001b[0m\n\u001b[1;32m    172\u001b[0m                 \u001b[0miteration\u001b[0m \u001b[0;34m+=\u001b[0m \u001b[0;36m1\u001b[0m\u001b[0;34m\u001b[0m\u001b[0;34m\u001b[0m\u001b[0m\n\u001b[1;32m    173\u001b[0m \u001b[0;34m\u001b[0m\u001b[0m\n\u001b[0;32m--> 174\u001b[0;31m             \u001b[0mself\u001b[0m\u001b[0;34m.\u001b[0m\u001b[0mprobe\u001b[0m\u001b[0;34m(\u001b[0m\u001b[0mx_probe\u001b[0m\u001b[0;34m,\u001b[0m \u001b[0mlazy\u001b[0m\u001b[0;34m=\u001b[0m\u001b[0;32mFalse\u001b[0m\u001b[0;34m)\u001b[0m\u001b[0;34m\u001b[0m\u001b[0;34m\u001b[0m\u001b[0m\n\u001b[0m\u001b[1;32m    175\u001b[0m \u001b[0;34m\u001b[0m\u001b[0m\n\u001b[1;32m    176\u001b[0m         \u001b[0mself\u001b[0m\u001b[0;34m.\u001b[0m\u001b[0mdispatch\u001b[0m\u001b[0;34m(\u001b[0m\u001b[0mEvents\u001b[0m\u001b[0;34m.\u001b[0m\u001b[0mOPTMIZATION_END\u001b[0m\u001b[0;34m)\u001b[0m\u001b[0;34m\u001b[0m\u001b[0;34m\u001b[0m\u001b[0m\n",
      "\u001b[0;32m~/anaconda3/envs/fastai2/lib/python3.7/site-packages/bayes_opt/bayesian_optimization.py\u001b[0m in \u001b[0;36mprobe\u001b[0;34m(self, params, lazy)\u001b[0m\n\u001b[1;32m    110\u001b[0m             \u001b[0mself\u001b[0m\u001b[0;34m.\u001b[0m\u001b[0m_queue\u001b[0m\u001b[0;34m.\u001b[0m\u001b[0madd\u001b[0m\u001b[0;34m(\u001b[0m\u001b[0mparams\u001b[0m\u001b[0;34m)\u001b[0m\u001b[0;34m\u001b[0m\u001b[0;34m\u001b[0m\u001b[0m\n\u001b[1;32m    111\u001b[0m         \u001b[0;32melse\u001b[0m\u001b[0;34m:\u001b[0m\u001b[0;34m\u001b[0m\u001b[0;34m\u001b[0m\u001b[0m\n\u001b[0;32m--> 112\u001b[0;31m             \u001b[0mself\u001b[0m\u001b[0;34m.\u001b[0m\u001b[0m_space\u001b[0m\u001b[0;34m.\u001b[0m\u001b[0mprobe\u001b[0m\u001b[0;34m(\u001b[0m\u001b[0mparams\u001b[0m\u001b[0;34m)\u001b[0m\u001b[0;34m\u001b[0m\u001b[0;34m\u001b[0m\u001b[0m\n\u001b[0m\u001b[1;32m    113\u001b[0m             \u001b[0mself\u001b[0m\u001b[0;34m.\u001b[0m\u001b[0mdispatch\u001b[0m\u001b[0;34m(\u001b[0m\u001b[0mEvents\u001b[0m\u001b[0;34m.\u001b[0m\u001b[0mOPTMIZATION_STEP\u001b[0m\u001b[0;34m)\u001b[0m\u001b[0;34m\u001b[0m\u001b[0;34m\u001b[0m\u001b[0m\n\u001b[1;32m    114\u001b[0m \u001b[0;34m\u001b[0m\u001b[0m\n",
      "\u001b[0;32m~/anaconda3/envs/fastai2/lib/python3.7/site-packages/bayes_opt/target_space.py\u001b[0m in \u001b[0;36mprobe\u001b[0;34m(self, params)\u001b[0m\n\u001b[1;32m    192\u001b[0m         \u001b[0;32mexcept\u001b[0m \u001b[0mKeyError\u001b[0m\u001b[0;34m:\u001b[0m\u001b[0;34m\u001b[0m\u001b[0;34m\u001b[0m\u001b[0m\n\u001b[1;32m    193\u001b[0m             \u001b[0mparams\u001b[0m \u001b[0;34m=\u001b[0m \u001b[0mdict\u001b[0m\u001b[0;34m(\u001b[0m\u001b[0mzip\u001b[0m\u001b[0;34m(\u001b[0m\u001b[0mself\u001b[0m\u001b[0;34m.\u001b[0m\u001b[0m_keys\u001b[0m\u001b[0;34m,\u001b[0m \u001b[0mx\u001b[0m\u001b[0;34m)\u001b[0m\u001b[0;34m)\u001b[0m\u001b[0;34m\u001b[0m\u001b[0;34m\u001b[0m\u001b[0m\n\u001b[0;32m--> 194\u001b[0;31m             \u001b[0mtarget\u001b[0m \u001b[0;34m=\u001b[0m \u001b[0mself\u001b[0m\u001b[0;34m.\u001b[0m\u001b[0mtarget_func\u001b[0m\u001b[0;34m(\u001b[0m\u001b[0;34m**\u001b[0m\u001b[0mparams\u001b[0m\u001b[0;34m)\u001b[0m\u001b[0;34m\u001b[0m\u001b[0;34m\u001b[0m\u001b[0m\n\u001b[0m\u001b[1;32m    195\u001b[0m             \u001b[0mself\u001b[0m\u001b[0;34m.\u001b[0m\u001b[0mregister\u001b[0m\u001b[0;34m(\u001b[0m\u001b[0mx\u001b[0m\u001b[0;34m,\u001b[0m \u001b[0mtarget\u001b[0m\u001b[0;34m)\u001b[0m\u001b[0;34m\u001b[0m\u001b[0;34m\u001b[0m\u001b[0m\n\u001b[1;32m    196\u001b[0m         \u001b[0;32mreturn\u001b[0m \u001b[0mtarget\u001b[0m\u001b[0;34m\u001b[0m\u001b[0;34m\u001b[0m\u001b[0m\n",
      "\u001b[0;32m<ipython-input-7-3c147328691b>\u001b[0m in \u001b[0;36mlgb_eval\u001b[0;34m(num_leaves, learning_rate, feature_fraction, bagging_fraction, max_depth, lambda_l1, lambda_l2, min_split_gain, min_child_weight)\u001b[0m\n\u001b[1;32m     10\u001b[0m     \u001b[0mparams\u001b[0m\u001b[0;34m[\u001b[0m\u001b[0;34m'min_split_gain'\u001b[0m\u001b[0;34m]\u001b[0m \u001b[0;34m=\u001b[0m \u001b[0mmin_split_gain\u001b[0m\u001b[0;34m\u001b[0m\u001b[0;34m\u001b[0m\u001b[0m\n\u001b[1;32m     11\u001b[0m     \u001b[0mparams\u001b[0m\u001b[0;34m[\u001b[0m\u001b[0;34m'min_child_weight'\u001b[0m\u001b[0;34m]\u001b[0m \u001b[0;34m=\u001b[0m \u001b[0mmin_child_weight\u001b[0m\u001b[0;34m\u001b[0m\u001b[0;34m\u001b[0m\u001b[0m\n\u001b[0;32m---> 12\u001b[0;31m     \u001b[0mcv_result\u001b[0m \u001b[0;34m=\u001b[0m \u001b[0mlgb\u001b[0m\u001b[0;34m.\u001b[0m\u001b[0mcv\u001b[0m\u001b[0;34m(\u001b[0m\u001b[0mparams\u001b[0m\u001b[0;34m,\u001b[0m \u001b[0mtrain_data\u001b[0m\u001b[0;34m,\u001b[0m \u001b[0mnfold\u001b[0m\u001b[0;34m=\u001b[0m\u001b[0mn_folds\u001b[0m\u001b[0;34m,\u001b[0m \u001b[0mseed\u001b[0m\u001b[0;34m=\u001b[0m\u001b[0mrandom_state\u001b[0m\u001b[0;34m,\u001b[0m \u001b[0mstratified\u001b[0m\u001b[0;34m=\u001b[0m\u001b[0;32mTrue\u001b[0m\u001b[0;34m,\u001b[0m \u001b[0mverbose_eval\u001b[0m \u001b[0;34m=\u001b[0m\u001b[0;36m200\u001b[0m\u001b[0;34m)\u001b[0m\u001b[0;34m\u001b[0m\u001b[0;34m\u001b[0m\u001b[0m\n\u001b[0m\u001b[1;32m     13\u001b[0m     \u001b[0;32mreturn\u001b[0m \u001b[0mmax\u001b[0m\u001b[0;34m(\u001b[0m\u001b[0mcv_result\u001b[0m\u001b[0;34m[\u001b[0m\u001b[0;34m'auc-mean'\u001b[0m\u001b[0;34m]\u001b[0m\u001b[0;34m)\u001b[0m\u001b[0;34m\u001b[0m\u001b[0;34m\u001b[0m\u001b[0m\n",
      "\u001b[0;32m~/anaconda3/envs/fastai2/lib/python3.7/site-packages/lightgbm/engine.py\u001b[0m in \u001b[0;36mcv\u001b[0;34m(params, train_set, num_boost_round, folds, nfold, stratified, shuffle, metrics, fobj, feval, init_model, feature_name, categorical_feature, early_stopping_rounds, fpreproc, verbose_eval, show_stdv, seed, callbacks)\u001b[0m\n\u001b[1;32m    485\u001b[0m                                     \u001b[0mend_iteration\u001b[0m\u001b[0;34m=\u001b[0m\u001b[0mnum_boost_round\u001b[0m\u001b[0;34m,\u001b[0m\u001b[0;34m\u001b[0m\u001b[0;34m\u001b[0m\u001b[0m\n\u001b[1;32m    486\u001b[0m                                     evaluation_result_list=None))\n\u001b[0;32m--> 487\u001b[0;31m         \u001b[0mcvfolds\u001b[0m\u001b[0;34m.\u001b[0m\u001b[0mupdate\u001b[0m\u001b[0;34m(\u001b[0m\u001b[0mfobj\u001b[0m\u001b[0;34m=\u001b[0m\u001b[0mfobj\u001b[0m\u001b[0;34m)\u001b[0m\u001b[0;34m\u001b[0m\u001b[0;34m\u001b[0m\u001b[0m\n\u001b[0m\u001b[1;32m    488\u001b[0m         \u001b[0mres\u001b[0m \u001b[0;34m=\u001b[0m \u001b[0m_agg_cv_result\u001b[0m\u001b[0;34m(\u001b[0m\u001b[0mcvfolds\u001b[0m\u001b[0;34m.\u001b[0m\u001b[0meval_valid\u001b[0m\u001b[0;34m(\u001b[0m\u001b[0mfeval\u001b[0m\u001b[0;34m)\u001b[0m\u001b[0;34m)\u001b[0m\u001b[0;34m\u001b[0m\u001b[0;34m\u001b[0m\u001b[0m\n\u001b[1;32m    489\u001b[0m         \u001b[0;32mfor\u001b[0m \u001b[0m_\u001b[0m\u001b[0;34m,\u001b[0m \u001b[0mkey\u001b[0m\u001b[0;34m,\u001b[0m \u001b[0mmean\u001b[0m\u001b[0;34m,\u001b[0m \u001b[0m_\u001b[0m\u001b[0;34m,\u001b[0m \u001b[0mstd\u001b[0m \u001b[0;32min\u001b[0m \u001b[0mres\u001b[0m\u001b[0;34m:\u001b[0m\u001b[0;34m\u001b[0m\u001b[0;34m\u001b[0m\u001b[0m\n",
      "\u001b[0;32m~/anaconda3/envs/fastai2/lib/python3.7/site-packages/lightgbm/engine.py\u001b[0m in \u001b[0;36mhandler_function\u001b[0;34m(*args, **kwargs)\u001b[0m\n\u001b[1;32m    261\u001b[0m             \u001b[0mret\u001b[0m \u001b[0;34m=\u001b[0m \u001b[0;34m[\u001b[0m\u001b[0;34m]\u001b[0m\u001b[0;34m\u001b[0m\u001b[0;34m\u001b[0m\u001b[0m\n\u001b[1;32m    262\u001b[0m             \u001b[0;32mfor\u001b[0m \u001b[0mbooster\u001b[0m \u001b[0;32min\u001b[0m \u001b[0mself\u001b[0m\u001b[0;34m.\u001b[0m\u001b[0mboosters\u001b[0m\u001b[0;34m:\u001b[0m\u001b[0;34m\u001b[0m\u001b[0;34m\u001b[0m\u001b[0m\n\u001b[0;32m--> 263\u001b[0;31m                 \u001b[0mret\u001b[0m\u001b[0;34m.\u001b[0m\u001b[0mappend\u001b[0m\u001b[0;34m(\u001b[0m\u001b[0mgetattr\u001b[0m\u001b[0;34m(\u001b[0m\u001b[0mbooster\u001b[0m\u001b[0;34m,\u001b[0m \u001b[0mname\u001b[0m\u001b[0;34m)\u001b[0m\u001b[0;34m(\u001b[0m\u001b[0;34m*\u001b[0m\u001b[0margs\u001b[0m\u001b[0;34m,\u001b[0m \u001b[0;34m**\u001b[0m\u001b[0mkwargs\u001b[0m\u001b[0;34m)\u001b[0m\u001b[0;34m)\u001b[0m\u001b[0;34m\u001b[0m\u001b[0;34m\u001b[0m\u001b[0m\n\u001b[0m\u001b[1;32m    264\u001b[0m             \u001b[0;32mreturn\u001b[0m \u001b[0mret\u001b[0m\u001b[0;34m\u001b[0m\u001b[0;34m\u001b[0m\u001b[0m\n\u001b[1;32m    265\u001b[0m         \u001b[0;32mreturn\u001b[0m \u001b[0mhandler_function\u001b[0m\u001b[0;34m\u001b[0m\u001b[0;34m\u001b[0m\u001b[0m\n",
      "\u001b[0;32m~/anaconda3/envs/fastai2/lib/python3.7/site-packages/lightgbm/basic.py\u001b[0m in \u001b[0;36mupdate\u001b[0;34m(self, train_set, fobj)\u001b[0m\n\u001b[1;32m   1800\u001b[0m             _safe_call(_LIB.LGBM_BoosterUpdateOneIter(\n\u001b[1;32m   1801\u001b[0m                 \u001b[0mself\u001b[0m\u001b[0;34m.\u001b[0m\u001b[0mhandle\u001b[0m\u001b[0;34m,\u001b[0m\u001b[0;34m\u001b[0m\u001b[0;34m\u001b[0m\u001b[0m\n\u001b[0;32m-> 1802\u001b[0;31m                 ctypes.byref(is_finished)))\n\u001b[0m\u001b[1;32m   1803\u001b[0m             \u001b[0mself\u001b[0m\u001b[0;34m.\u001b[0m\u001b[0m__is_predicted_cur_iter\u001b[0m \u001b[0;34m=\u001b[0m \u001b[0;34m[\u001b[0m\u001b[0;32mFalse\u001b[0m \u001b[0;32mfor\u001b[0m \u001b[0m_\u001b[0m \u001b[0;32min\u001b[0m \u001b[0mrange_\u001b[0m\u001b[0;34m(\u001b[0m\u001b[0mself\u001b[0m\u001b[0;34m.\u001b[0m\u001b[0m__num_dataset\u001b[0m\u001b[0;34m)\u001b[0m\u001b[0;34m]\u001b[0m\u001b[0;34m\u001b[0m\u001b[0;34m\u001b[0m\u001b[0m\n\u001b[1;32m   1804\u001b[0m             \u001b[0;32mreturn\u001b[0m \u001b[0mis_finished\u001b[0m\u001b[0;34m.\u001b[0m\u001b[0mvalue\u001b[0m \u001b[0;34m==\u001b[0m \u001b[0;36m1\u001b[0m\u001b[0;34m\u001b[0m\u001b[0;34m\u001b[0m\u001b[0m\n",
      "\u001b[0;31mKeyboardInterrupt\u001b[0m: "
     ]
    }
   ],
   "source": [
    "opt_params = lgbBO.maximize(init_points=init_round, n_iter=opt_round)"
   ]
  },
  {
   "cell_type": "markdown",
   "metadata": {},
   "source": [
    "|   iter    |  target   | baggin... | featur... | lambda_l1 | lambda_l2 | learni... | max_depth | min_ch... | min_sp... | num_le... |\n",
    "\n",
    "|  19       |  0.7846   |  0.9539   |  0.1041   |  3.114    |  0.08302  |  0.01104  |  5.327    |  46.5     |  0.0375   |  26.51    |"
   ]
  },
  {
   "cell_type": "code",
   "execution_count": 11,
   "metadata": {},
   "outputs": [],
   "source": [
    "# for making train - valid sets\n",
    "from sklearn.model_selection import train_test_split\n",
    "\n",
    "#Split in 80% train and 20% test set\n",
    "train_df, val_df = train_test_split(train, test_size = 0.1, random_state=random_state)\n",
    "\n",
    "#Define 'y' labels\n",
    "train_y = train_df.target\n",
    "val_y = val_df.target\n",
    "\n",
    "#Define 'x' sets\n",
    "train_x = train_df.drop(['target'], axis = 1)\n",
    "val_x = val_df.drop(['target'], axis = 1)\n",
    "\n",
    "categorical_features = [col for c, col in enumerate(train_x.columns) \\\n",
    "                        if not ( np.issubdtype(train_x.dtypes[c], np.number )  )  ]\n",
    "\n",
    "for f in categorical_features:\n",
    "    train_x[f] = train_x[f].astype('category')\n",
    "    val_x[f] = val_x[f].astype('category')"
   ]
  },
  {
   "cell_type": "code",
   "execution_count": 12,
   "metadata": {},
   "outputs": [],
   "source": [
    "train_data = lgb.Dataset(data=train_x, label=train_y, categorical_feature = categorical_features, free_raw_data=False)\n",
    "val_data = lgb.Dataset(data=val_x, label=val_y, categorical_feature = categorical_features, free_raw_data=False)"
   ]
  },
  {
   "cell_type": "code",
   "execution_count": 13,
   "metadata": {},
   "outputs": [],
   "source": [
    "params = {'objective':'binary',\n",
    "        'num_iterations':15000, \n",
    "        'early_stopping_round':100, \n",
    "        'metric':'auc',\n",
    "        'num_leaves': round(int(26.51)),\n",
    "        'learning_rate':0.01104,\n",
    "        'feature_fraction': 0.1041,\n",
    "        'bagging_fraction': 0.9539,\n",
    "        'max_depth': round(int(5.327)),\n",
    "        'lambda_l1': 3.114,\n",
    "        'lambda_l2': 0.08302,\n",
    "        'min_split_gain': 0.0375,\n",
    "        'min_child_weight': 46.5,\n",
    "        'seed':random_state}"
   ]
  },
  {
   "cell_type": "code",
   "execution_count": 14,
   "metadata": {},
   "outputs": [
    {
     "name": "stdout",
     "output_type": "stream",
     "text": [
      "Training until validation scores don't improve for 100 rounds.\n",
      "[200]\tvalid_0's auc: 0.757991\n",
      "[400]\tvalid_0's auc: 0.769884\n",
      "[600]\tvalid_0's auc: 0.777457\n",
      "[800]\tvalid_0's auc: 0.781298\n",
      "[1000]\tvalid_0's auc: 0.783578\n",
      "[1200]\tvalid_0's auc: 0.785217\n",
      "[1400]\tvalid_0's auc: 0.786268\n",
      "[1600]\tvalid_0's auc: 0.787129\n",
      "[1800]\tvalid_0's auc: 0.78752\n",
      "[2000]\tvalid_0's auc: 0.787832\n",
      "[2200]\tvalid_0's auc: 0.787959\n",
      "[2400]\tvalid_0's auc: 0.788069\n",
      "[2600]\tvalid_0's auc: 0.788161\n",
      "[2800]\tvalid_0's auc: 0.788217\n",
      "[3000]\tvalid_0's auc: 0.788232\n",
      "Early stopping, best iteration is:\n",
      "[3032]\tvalid_0's auc: 0.788238\n"
     ]
    }
   ],
   "source": [
    "lgbm = lgb.train(params,\n",
    "                 train_data,\n",
    "                 num_boost_round=40000,\n",
    "                 valid_sets=val_data,\n",
    "                 early_stopping_rounds=100,\n",
    "                 verbose_eval=200,\n",
    "                 )"
   ]
  },
  {
   "cell_type": "code",
   "execution_count": 16,
   "metadata": {},
   "outputs": [],
   "source": [
    "X_test = test\n",
    "\n",
    "for f in categorical_features:\n",
    "    X_test[f] = X_test[f].astype('category')"
   ]
  },
  {
   "cell_type": "code",
   "execution_count": 17,
   "metadata": {},
   "outputs": [],
   "source": [
    "y_pred = lgbm.predict(X_test, num_iteration=lgbm.best_iteration)"
   ]
  },
  {
   "cell_type": "code",
   "execution_count": 18,
   "metadata": {},
   "outputs": [
    {
     "data": {
      "text/plain": [
       "<lightgbm.basic.Booster at 0x7f229fe0bc50>"
      ]
     },
     "execution_count": 18,
     "metadata": {},
     "output_type": "execute_result"
    }
   ],
   "source": [
    "lgbm.save_model('model.txt')"
   ]
  },
  {
   "cell_type": "code",
   "execution_count": 19,
   "metadata": {},
   "outputs": [],
   "source": [
    "sub = pd.read_csv('sample_submission.csv')\n",
    "sub.target = y_pred"
   ]
  },
  {
   "cell_type": "code",
   "execution_count": 20,
   "metadata": {},
   "outputs": [],
   "source": [
    "sub.to_csv('submit.csv', index=False)"
   ]
  },
  {
   "cell_type": "code",
   "execution_count": null,
   "metadata": {},
   "outputs": [],
   "source": []
  }
 ],
 "metadata": {
  "kernelspec": {
   "display_name": "Python 3",
   "language": "python",
   "name": "python3"
  },
  "language_info": {
   "codemirror_mode": {
    "name": "ipython",
    "version": 3
   },
   "file_extension": ".py",
   "mimetype": "text/x-python",
   "name": "python",
   "nbconvert_exporter": "python",
   "pygments_lexer": "ipython3",
   "version": "3.7.6"
  }
 },
 "nbformat": 4,
 "nbformat_minor": 4
}
